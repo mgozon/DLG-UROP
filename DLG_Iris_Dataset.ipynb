{
  "nbformat": 4,
  "nbformat_minor": 0,
  "metadata": {
    "colab": {
      "provenance": [],
      "collapsed_sections": [],
      "include_colab_link": true
    },
    "kernelspec": {
      "name": "python3",
      "display_name": "Python 3"
    },
    "accelerator": "GPU"
  },
  "cells": [
    {
      "cell_type": "markdown",
      "metadata": {
        "id": "view-in-github",
        "colab_type": "text"
      },
      "source": [
        "<a href=\"https://colab.research.google.com/github/mgozon/DLG-UROP/blob/main/DLG_Iris_Dataset.ipynb\" target=\"_parent\"><img src=\"https://colab.research.google.com/assets/colab-badge.svg\" alt=\"Open In Colab\"/></a>"
      ]
    },
    {
      "cell_type": "markdown",
      "source": [
        "# DLG - Iris Dataset\n",
        "This notebook modifies the code in [Deep Leakage from Gradients](https://gist.github.com/Lyken17/91b81526a8245a028d4f85ccc9191884) to work with the Iris Dataset."
      ],
      "metadata": {
        "id": "EFXvpWu88EO4"
      }
    },
    {
      "cell_type": "code",
      "metadata": {
        "id": "NWa7Xo6PkIl3",
        "outputId": "ed24fc22-7f6a-4b39-f635-c711530f7eae",
        "colab": {
          "base_uri": "https://localhost:8080/"
        }
      },
      "source": [
        "# setting up libraries and device\n",
        "%matplotlib inline\n",
        "\n",
        "import numpy as np\n",
        "from pprint import pprint\n",
        "\n",
        "from PIL import Image\n",
        "import matplotlib.pyplot as plt\n",
        "\n",
        "import torch\n",
        "import torch.nn as nn\n",
        "import torch.nn.functional as F\n",
        "from torch.autograd import grad\n",
        "\n",
        "from random import randint\n",
        "\n",
        "from sklearn.datasets import load_iris\n",
        "dst = load_iris()\n",
        "\n",
        "print(torch.__version__)\n",
        "device = \"cpu\"\n",
        "if torch.cuda.is_available():\n",
        "    device = \"cuda\"\n",
        "print(\"Running on %s\" % device)"
      ],
      "execution_count": null,
      "outputs": [
        {
          "output_type": "stream",
          "name": "stdout",
          "text": [
            "1.12.1+cu113\n",
            "Running on cuda\n"
          ]
        }
      ]
    },
    {
      "cell_type": "code",
      "metadata": {
        "id": "VjKWqs2akepH"
      },
      "source": [
        "# auxiliary functions for NN - conver to onehot and loss function\n",
        "def label_to_onehot(target, num_classes = 3):\n",
        "    target = torch.unsqueeze(target, 1)\n",
        "    onehot_target = torch.zeros(target.size(0), num_classes, device=target.device)\n",
        "    onehot_target.scatter_(1, target, 1)\n",
        "    return onehot_target\n",
        "\n",
        "def cross_entropy_for_onehot(pred, target):\n",
        "    return torch.mean(torch.sum(- target * F.log_softmax(pred, dim=-1), 1))"
      ],
      "execution_count": null,
      "outputs": []
    },
    {
      "cell_type": "code",
      "metadata": {
        "id": "AorI020iVjjS"
      },
      "source": [
        "# a random fully connected neural network with random weights and biases\n",
        "def weights_init(m):\n",
        "    if hasattr(m, \"weight\"):\n",
        "        m.weight.data.uniform_(-0.5, 0.5)\n",
        "    if hasattr(m, \"bias\"):\n",
        "        m.bias.data.uniform_(-0.5, 0.5)\n",
        "    \n",
        "class FcNet(nn.Module):\n",
        "    def __init__(self):\n",
        "        super(FcNet, self).__init__()\n",
        "        act = nn.Sigmoid\n",
        "        self.body = nn.Sequential(\n",
        "            nn.Linear(4, 100),\n",
        "            act(),\n",
        "            nn.Linear(100, 100),\n",
        "            act(),\n",
        "            nn.Linear(100, 100),\n",
        "            act(),\n",
        "            nn.Linear(100, 3),\n",
        "            act(),\n",
        "        )\n",
        "        \n",
        "    def forward(self, x):\n",
        "        out = self.body(x)\n",
        "        out = out.view(out.size(0), -1)\n",
        "        return out\n",
        "    \n",
        "net = FcNet().to(device)\n",
        "    \n",
        "net.apply(weights_init)\n",
        "criterion = cross_entropy_for_onehot"
      ],
      "execution_count": null,
      "outputs": []
    },
    {
      "cell_type": "code",
      "metadata": {
        "id": "8mSgR4GClV-8"
      },
      "source": [
        "# DLG algorithm on a given flower and returns the hypothesized input\n",
        "def DLG(flower_index, verbose = True):\n",
        "\n",
        "    gt_data = torch.tensor(dst.data[flower_index, :]).to(device)\n",
        "    gt_data = gt_data.view(1, *gt_data.size())\n",
        "    gt_label = torch.tensor(dst.target[flower_index]).to(device)\n",
        "    gt_label = gt_label.view(1)\n",
        "    gt_onehot_label = label_to_onehot(gt_label, num_classes=3)\n",
        "\n",
        "    # print out (data, label) and verify onehot\n",
        "    if (verbose):\n",
        "        print(f\"gt_data: {gt_data}\")\n",
        "        print(f\"gt_label: {gt_label}\")\n",
        "        print(f\"gt_onehot_label: {gt_onehot_label}\")\n",
        "        print(f\"flower {flower_index} has label (gt, onehot) = ({gt_label.item()}, {torch.argmax(gt_onehot_label, dim=-1).item()})\")\n",
        "\n",
        "    # compute original gradient \n",
        "    out = net(gt_data.float())\n",
        "    y = criterion(out, gt_onehot_label)\n",
        "    dy_dx = torch.autograd.grad(y, net.parameters())\n",
        "\n",
        "    # share the gradients with other clients\n",
        "    original_dy_dx = list((_.detach().clone() for _ in dy_dx))\n",
        "\n",
        "    # generate dummy data and label\n",
        "    dummy_data = torch.randn(gt_data.size()).to(device).requires_grad_(True)\n",
        "    dummy_label = torch.randn(gt_onehot_label.size()).to(device).requires_grad_(True)\n",
        "\n",
        "    if (verbose):\n",
        "        print(\"Dummy label is %d.\" % torch.argmax(dummy_label, dim=-1).item())\n",
        "\n",
        "    # identify (data, label) using LBFGS on the squared difference between the original and guessed gradient\n",
        "    optimizer = torch.optim.LBFGS([dummy_data, dummy_label] )\n",
        "\n",
        "    global opt_steps\n",
        "    opt_steps = 0\n",
        "    for iters in range(10):\n",
        "        def closure():\n",
        "            optimizer.zero_grad()\n",
        "\n",
        "            pred = net(dummy_data) \n",
        "            \n",
        "            global opt_steps\n",
        "            opt_steps += 1\n",
        "            #print(f\"prediction: {pred} from data: {dummy_data.data} and label: {dummy_label}\") # uncomment to see optimization updates\n",
        "            dummy_onehot_label = F.softmax(dummy_label, dim=-1)\n",
        "            dummy_loss = criterion(pred, dummy_onehot_label)\n",
        "            dummy_dy_dx = torch.autograd.grad(dummy_loss, net.parameters(), create_graph=True)\n",
        "            \n",
        "            grad_diff = 0\n",
        "            grad_count = 0\n",
        "            for gx, gy in zip(dummy_dy_dx, original_dy_dx):\n",
        "                grad_diff += ((gx - gy) ** 2).sum()\n",
        "                grad_count += gx.nelement()\n",
        "\n",
        "            grad_diff.backward()\n",
        "            \n",
        "            return grad_diff\n",
        "        \n",
        "        optimizer.step(closure)\n",
        "        current_loss = closure()\n",
        "        if (verbose):\n",
        "            print(iters, \"%.4f\" % current_loss.item())\n",
        "        \n",
        "        # if current_loss is small enough, then the model has 'converged'\n",
        "        if (current_loss < 1e-9):\n",
        "            break\n",
        "    \n",
        "    # compare results\n",
        "    if (verbose):\n",
        "        print(f\"Original data: {gt_data}\")\n",
        "        print(f\"Predicted data: {dummy_data}\")\n",
        "        print(f\"Original label: {gt_label.item()}\")\n",
        "        print(f\"Predicted label: {torch.argmax(dummy_label).item()}\")\n",
        "        print(f\"Label SE: {((gt_data - dummy_data)**2).sum()}\")\n",
        "    \n",
        "\n",
        "    return dummy_data, ((gt_data - dummy_data)**2).sum().item(), opt_steps"
      ],
      "execution_count": null,
      "outputs": []
    },
    {
      "cell_type": "code",
      "metadata": {
        "id": "aokP-jhal96-",
        "outputId": "588f47e7-e6c4-4926-9647-30f1a4a77e48",
        "colab": {
          "base_uri": "https://localhost:8080/"
        }
      },
      "source": [
        "# testing DLG on entire flower dataset\n",
        "len = dst.data.shape[0]\n",
        "errors = []\n",
        "optimization_steps = []\n",
        "for i in range(len):\n",
        "    _, SE, steps = DLG(i, False)\n",
        "    errors.append(SE)\n",
        "    optimization_steps.append(steps)\n",
        "    \n",
        "print(errors)\n",
        "print(optimization_steps)"
      ],
      "execution_count": null,
      "outputs": [
        {
          "output_type": "stream",
          "name": "stdout",
          "text": [
            "[1.9208433798233767e-07, 1.252709030639823e-07, 1.0177288531016896e-07, 1.7586277651045668e-07, 1.5673327406808422e-05, 1.44645635628935e-07, 1.0673208155521654e-07, 1.511053007164093e-07, 1.7037885527298948e-07, 8.74156538442178e-08, 1.5966886587085671e-07, 2.0462893979289615e-07, 2.9599762342529896e-07, 1.1833269199190536e-07, 3.7584510359969064e-07, 0.00012933581402150792, 885267205277.7576, 1.577939612220417e-07, 1.2482503567669248e-07, 2.1369017297313655e-05, 1.6474992925440217e-08, 2930891.692951436, 2.1898337937661302e-07, 1.2637908938042905e-07, 1.089353519835391e-07, 1.0057464465694645e-07, 1.8318716243476022e-07, 0.0002601414436382091, 1.2006896756837343e-07, 2.8109698264140385e-07, 1.9238595840859116e-07, 4.5735235157199765e-05, 1.3855974243757657e-07, 3.0918948997519986e-07, 0.00034379553505246174, 4.55054724202547e-06, 2.7508202553149775e-07, 1.1112600156494475e-07, 1.3615056403162815e-07, 5.991630738254044e-09, 0.00011330514875258048, 1.7531720917682636e-07, 2.714242258235362e-07, 0.00013963392060716714, 1.5355062490868618e-07, 1.4546925829261478e-07, 0.00024698244847344325, 7.657898550848985e-08, 1.89078085748298e-07, 2.681471294790839e-08, 0.00038425693546116505, 2.949269202188694e-07, 5.21216261364493e-05, 3.781489934226605e-05, 2.449976136633069e-07, 2.647632595652249e-07, 4.218205776850673e-07, 5.254137141716316e-07, 2.7280559943395355e-05, 1.235826744049166e-07, 12742233.614234217, 6.095310965288198e-07, 4.792055557343898e-07, 0.00014576434358105501, 7005638.518363284, 27203.08168431078, 3.0481274734496253e-07, 1.6653837576551809e-07, 0.00016598173840122558, 3.5006333575917443e-07, 6.524674563474738e-07, 0.00010283408401165242, 0.00010610642474659815, 3.7603752673512597e-07, 537100.1842592559, 2.878232709236836e-07, 4.0753481328013966e-05, 1.4646852150694596e-07, 4.964600753965111e-07, 2755237033.715372, 2.400554882342589e-07, 2.2339503686897986e-07, 3.684695047924323e-07, 1.4930636837116884e-07, 1.6933746812809302e-05, 9.820463276352413e-08, 8.947603470229295e-07, 2.4826554920317916e-07, 2.2749632989891548e-07, 2.1210561783388064e-07, 1.4333078274824325e-06, 5.046161322746759e-07, 4.040324733978602e-07, 2.7575738840842794e-07, 5.617976775511181e-05, 0.0003393975740618724, 2.1530689082272875e-07, 9.268617175734855e-06, 4.4538895565454414e-07, 0.00042364443159385916, 0.00031054133973384816, 3.8491277248913444e-05, 3.205218536094919e-07, 2.709792539691844e-07, 1.9225580444976994e-07, 4.444090011476667e-06, 2.3922152877272996e-06, 1.3059411003271208e-07, 1.0908469050716557e-07, 2.3656163875799997e-07, 3.463441885289059e-07, 104734810.35568476, 0.00023013921710344343, 422989315.9445123, 2.4865446448558243e-07, 1.2123261330999129e-06, 4.03065581053823e-07, 7.454011870319413e-07, 3.7771247320953867e-06, 8.334885387739614e-07, 4.992104482425661e-05, 105625768.94312033, 2.4876361067048553e-07, 55811.091987071326, 3.796802752048865e-05, 21552836621.17883, 1.7665296411453568e-07, 1.7709927249711095e-05, 6.9490115788538585e-06, 3.942434523423751e-05, 9.816980019479709e-05, 562633.5725398781, 0.00018200171821262953, 0.0002829159514868798, 6.052995155419894e-07, 0.00028929203013149823, 88454023.23088382, 4.5074293109902786e-05, 4.7120091535931554e-05, 0.0002314282517568107, 0.00011149830182376213, 1.290391193833905e-05, 0.0003638131749227249, 2.6416266791833106e-08, 9.801878604763588e-08, 1.5137705531740647e-07, 7.148152008094649e-08, 1.057911506449963e-06, 3.1860087119620554e-07, 3.530681123095351e-05]\n",
            "[36, 51, 34, 54, 32, 54, 53, 51, 49, 35, 50, 36, 37, 51, 51, 34, 68, 33, 36, 34, 14, 39, 53, 37, 49, 51, 52, 34, 37, 51, 50, 46, 37, 34, 33, 39, 35, 37, 53, 14, 35, 49, 50, 35, 49, 41, 34, 35, 36, 19, 35, 40, 34, 35, 52, 48, 31, 47, 34, 36, 48, 50, 18, 32, 34, 69, 60, 48, 35, 49, 50, 55, 32, 37, 28, 57, 38, 34, 55, 35, 34, 36, 49, 35, 34, 34, 52, 69, 51, 33, 46, 48, 51, 50, 36, 34, 35, 39, 33, 83, 34, 32, 49, 51, 50, 35, 43, 37, 14, 51, 50, 91, 34, 85, 35, 33, 38, 34, 34, 34, 35, 28, 17, 68, 36, 38, 38, 33, 34, 32, 35, 47, 35, 35, 51, 35, 32, 36, 35, 33, 51, 36, 33, 14, 51, 37, 18, 35, 53, 33]\n"
          ]
        }
      ]
    },
    {
      "cell_type": "code",
      "source": [
        "# visually represent errors in a histogram\n",
        "plt.hist(errors, 50)\n",
        "plt.title('Distribution of SE of Guessed to Real Input on the IRIS dataset')\n",
        "plt.ylabel('Frequency')\n",
        "plt.xlabel('Squared Error (cm^2)')\n",
        "#plt.axis([0, 2, 0, 150])\n",
        "print('This graph was generated on the entire IRIS dataset consisting of 150 flowers.\\nIt utilizes a randomly initialized fully connected NN as its prediction algorithm.')\n",
        "#plt.savefig('single-gradient-SE.png', dpi=300)"
      ],
      "metadata": {
        "colab": {
          "base_uri": "https://localhost:8080/",
          "height": 331
        },
        "id": "YSjD58JivGGj",
        "outputId": "52635dea-0580-4f0a-cc4f-79261e04cb90"
      },
      "execution_count": null,
      "outputs": [
        {
          "output_type": "stream",
          "name": "stdout",
          "text": [
            "This graph was generated on the entire IRIS dataset consisting of 150 flowers.\n",
            "It utilizes a randomly initialized fully connected NN as its prediction algorithm.\n"
          ]
        },
        {
          "output_type": "display_data",
          "data": {
            "text/plain": [
              "<Figure size 432x288 with 1 Axes>"
            ],
            "image/png": "[encoded data removed]"
          },
          "metadata": {
            "needs_background": "light"
          }
        }
      ]
    },
    {
      "cell_type": "code",
      "source": [
        "# visually represent number of optimization steps\n",
        "plt.hist(optimization_steps, 50)\n",
        "plt.title('Distribution of Optimization Steps of DLG on the IRIS dataset')\n",
        "plt.xlabel('Number of Optimization Steps')\n",
        "plt.ylabel('Frequency')\n",
        "#plt.savefig('single-gradient-CR.png', dpi=300)\n",
        "print('Note that the number of optimization steps is measured in terms of the number of times the closure function is called in the LBFGS optimizer')"
      ],
      "metadata": {
        "colab": {
          "base_uri": "https://localhost:8080/",
          "height": 333
        },
        "id": "rT_AKOkAoxLT",
        "outputId": "c5343737-ddfd-4237-ed57-7e0275eff1c0"
      },
      "execution_count": null,
      "outputs": [
        {
          "output_type": "stream",
          "name": "stdout",
          "text": [
            "Note that the number of optimization steps is measured in terms of the number of times the closure function is called in the LBFGS optimizer\n"
          ]
        },
        {
          "output_type": "display_data",
          "data": {
            "text/plain": [
              "<Figure size 432x288 with 1 Axes>"
            ],
            "image/png": "[encoded data removed]"
          },
          "metadata": {
            "needs_background": "light"
          }
        }
      ]
    }
  ]
}