{
  "nbformat": 4,
  "nbformat_minor": 0,
  "metadata": {
    "colab": {
      "provenance": [],
      "authorship_tag": "ABX9TyP0L7CrooWvW4W9ALt644S/",
      "include_colab_link": true
    },
    "kernelspec": {
      "name": "python3",
      "display_name": "Python 3"
    },
    "language_info": {
      "name": "python"
    }
  },
  "cells": [
    {
      "cell_type": "markdown",
      "metadata": {
        "id": "view-in-github",
        "colab_type": "text"
      },
      "source": [
        "<a href=\"https://colab.research.google.com/github/mgozon/DLG-UROP/blob/main/dlg_stats.ipynb\" target=\"_parent\"><img src=\"https://colab.research.google.com/assets/colab-badge.svg\" alt=\"Open In Colab\"/></a>"
      ]
    },
    {
      "cell_type": "markdown",
      "source": [
        "# DLG Statistics\n",
        "This notebook provides utilities to analyze DLG.\n",
        "- assign_guess(guess, gt_dataset, n, verbose = False): guess_perm\n",
        "- def assign_best(guess, gt_dataset, n, verbose = False): best_match\n",
        "- compute_stats(guess_perm, gt_data, recovered_threshold = 0.25): rel_errors, recovered_rate, cos_angles"
      ],
      "metadata": {
        "id": "PMK9YYbo_oLn"
      }
    },
    {
      "cell_type": "code",
      "execution_count": null,
      "metadata": {
        "id": "mPnPxVqwWlLr"
      },
      "outputs": [],
      "source": [
        "import torch\n",
        "from scipy.optimize import linear_sum_assignment\n",
        "from math import sqrt"
      ]
    },
    {
      "cell_type": "markdown",
      "source": [
        "# Matchings / Assignments"
      ],
      "metadata": {
        "id": "wMApWBSLb4KT"
      }
    },
    {
      "cell_type": "code",
      "source": [
        "# find best linear sum assignment using relative error\n",
        "def assign_guess(guess, gt_dataset, n, verbose = False):\n",
        "    cost_matrix = [[sqrt(torch.sum((guess[i]-gt_dataset[j])**2).item()) / sqrt(torch.sum(gt_dataset[j]**2).item()) for j in range(n)] for i in range(n)]\n",
        "    row_ind, col_ind = linear_sum_assignment(cost_matrix)\n",
        "    best_MSE = sum([cost_matrix[row_ind[i]][col_ind[i]] for i in range(n)]) / n\n",
        "\n",
        "    guess_perm = torch.zeros(gt_dataset.shape)\n",
        "    for i in range(n):\n",
        "        guess_perm[col_ind[i]] = guess[i]\n",
        "    \n",
        "    if (verbose):\n",
        "        print('gt data vs guess perm (linear sum assignment): ')\n",
        "        for i in range(n):\n",
        "            print(gt_dataset[i], guess_perm[i], 'RE (AE / TN): ', sqrt(torch.sum((gt_dataset[i]-guess_perm[i])**2).item()) / sqrt(torch.sum(gt_dataset[i]**2).item()))\n",
        "\n",
        "    return guess_perm\n",
        "\n",
        "print('defined: assign_guess(guess, gt_dataset, n, verbose = False): guess_perm')"
      ],
      "metadata": {
        "id": "hXNJGghjahi_",
        "colab": {
          "base_uri": "https://localhost:8080/"
        },
        "outputId": "d0b5279c-49e2-4780-e6cd-3cf12309148e"
      },
      "execution_count": 3,
      "outputs": [
        {
          "output_type": "stream",
          "name": "stdout",
          "text": [
            "defined: assign_guess(guess, gt_dataset, n, verbose = False): guess_perm\n"
          ]
        }
      ]
    },
    {
      "cell_type": "code",
      "source": [
        "# NOTE: this returns an array with the best corresponding gt_data since matching is not one to one\n",
        "# --> this is NOT the same format as assign_guess()\n",
        "def assign_best(guess, gt_dataset, n, verbose = False):\n",
        "    cost_matrix = torch.tensor([[sqrt(torch.sum((guess[i]-gt_dataset[j])**2).item()) / sqrt(torch.sum(gt_dataset[j]**2).item()) for j in range(n)] for i in range(n)])\n",
        "    match_idx = torch.argmin(cost_matrix, dim=1)\n",
        "    best_match = gt_dataset[match_idx]\n",
        "\n",
        "    if (verbose):\n",
        "        # print('relative error matrix:')\n",
        "        # print(cost_matrix)\n",
        "        print('closest match: assignment and relative error (%):')\n",
        "        for i in range(n):\n",
        "            RE = sqrt(torch.sum((best_match[i]-guess[i])**2).item()) / sqrt(torch.sum(best_match[i]**2).item())\n",
        "            print(guess[i], best_match[i], 100*RE)\n",
        "    \n",
        "    return best_match\n",
        "\n",
        "print('defined: assign_best(guess, gt_dataset, n, verbose = False): best_match')"
      ],
      "metadata": {
        "id": "3elNxbAHaoWI",
        "colab": {
          "base_uri": "https://localhost:8080/"
        },
        "outputId": "62afd02d-911d-4767-bf73-412ea2700398"
      },
      "execution_count": 4,
      "outputs": [
        {
          "output_type": "stream",
          "name": "stdout",
          "text": [
            "defined: assign_best(guess, gt_dataset, n, verbose = False): best_match\n"
          ]
        }
      ]
    },
    {
      "cell_type": "markdown",
      "source": [
        "# DLG Statistics"
      ],
      "metadata": {
        "id": "JTQAFOwCb-H2"
      }
    },
    {
      "cell_type": "code",
      "source": [
        "#@title Old Statistics (SE, MSE, NE, cos distance) (not updated)\n",
        "def compute_stats_old(n_elts, guess_perm, gt_data):\n",
        "    MSE = 0\n",
        "    SEs = []\n",
        "    n_errors = []\n",
        "    cos_angles = []\n",
        "    for i in range(n_elts):\n",
        "        SE = torch.sum((guess_perm[i]-gt_data[i])**2).item()\n",
        "        SEs.append(SE); MSE += SE\n",
        "\n",
        "        n_error = (torch.sum((guess_perm[i]-gt_data[i])**2) / (torch.linalg.norm(gt_data[i])**2)).item()\n",
        "        n_errors.append(n_error)\n",
        "\n",
        "        cos_angle = (torch.sum(guess_perm[i]*gt_data[i]).item() / (torch.linalg.norm(gt_data[i]) * torch.linalg.norm(guess_perm[i]))).item()\n",
        "        cos_angles.append(cos_angle)\n",
        "\n",
        "    MSE /= n_elts\n",
        "\n",
        "    return SEs, MSE, n_errors, cos_angles"
      ],
      "metadata": {
        "cellView": "form",
        "id": "FQ46XmacbPyF"
      },
      "execution_count": null,
      "outputs": []
    },
    {
      "cell_type": "code",
      "source": [
        "def compute_stats(guess_perm, gt_data, recovered_threshold = 0.25):\n",
        "    assert guess_perm.shape[0] == gt_data.shape[0]\n",
        "    n_elts = guess_perm.shape[0]\n",
        "\n",
        "    rel_errors = []\n",
        "    recovered_rate = 0\n",
        "    cos_angles = []\n",
        "    for i in range(n_elts):\n",
        "        rel_error = sqrt(torch.sum((gt_data[i]-guess_perm[i])**2).item()) / sqrt(torch.sum(gt_data[i]**2).item())\n",
        "        rel_errors.append(rel_error)\n",
        "\n",
        "        if (rel_error <= recovered_threshold):\n",
        "            recovered_rate += 1\n",
        "\n",
        "        cos_angle = (torch.sum(guess_perm[i]*gt_data[i]).item() / (torch.linalg.norm(gt_data[i]) * torch.linalg.norm(guess_perm[i]))).item()\n",
        "        cos_angles.append(cos_angle)\n",
        "\n",
        "    recovered_rate /= n_elts\n",
        "\n",
        "    return rel_errors, recovered_rate, cos_angles\n",
        "  \n",
        "print('defined: compute_stats(guess_perm, gt_data, recovered_threshold = 0.25): rel_errors, recovered_rate, cos_angles')"
      ],
      "metadata": {
        "id": "whK2eAZYbRZ_",
        "colab": {
          "base_uri": "https://localhost:8080/"
        },
        "outputId": "960fd053-08f4-4502-e720-bc7a49e6c0c0"
      },
      "execution_count": 5,
      "outputs": [
        {
          "output_type": "stream",
          "name": "stdout",
          "text": [
            "defined: compute_stats(guess_perm, gt_data, recovered_threshold = 0.25): rel_errors, recovered_rate, cos_angles\n"
          ]
        }
      ]
    }
  ]
}