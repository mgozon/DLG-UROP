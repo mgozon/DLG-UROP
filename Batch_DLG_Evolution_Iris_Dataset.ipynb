{
  "nbformat": 4,
  "nbformat_minor": 0,
  "metadata": {
    "colab": {
      "provenance": [],
      "include_colab_link": true
    },
    "kernelspec": {
      "name": "python3",
      "display_name": "Python 3"
    },
    "gpuClass": "standard"
  },
  "cells": [
    {
      "cell_type": "markdown",
      "metadata": {
        "id": "view-in-github",
        "colab_type": "text"
      },
      "source": [
        "<a href=\"https://colab.research.google.com/github/mgozon/DLG-UROP/blob/main/Batch_DLG_Evolution_Iris_Dataset.ipynb\" target=\"_parent\"><img src=\"https://colab.research.google.com/assets/colab-badge.svg\" alt=\"Open In Colab\"/></a>"
      ]
    },
    {
      "cell_type": "markdown",
      "source": [
        "# Batch-DLG Evolution - Iris Dataset\n",
        "This notebook is based on the [Batch-DLG Iris Dataset](https://github.com/mgozon/DLG-UROP/blob/main/Batch_DLG_Iris_Dataset.ipynb), which implements the procedure in [Deep Leakage from Gradients](https://gist.github.com/Lyken17/91b81526a8245a028d4f85ccc9191884) on the Iris Dataset. In particular, a fully connected nueral network is trained using mini-batch gradients which are leaked."
      ],
      "metadata": {
        "id": "EFXvpWu88EO4"
      }
    },
    {
      "cell_type": "markdown",
      "source": [
        "# Setting up Libaries and Utilities"
      ],
      "metadata": {
        "id": "2s36JoDvmtBQ"
      }
    },
    {
      "cell_type": "code",
      "metadata": {
        "id": "NWa7Xo6PkIl3",
        "outputId": "8fd94b62-4f06-4b45-f4b6-9c418ce7076b",
        "colab": {
          "base_uri": "https://localhost:8080/"
        }
      },
      "source": [
        "# setting up machine learning/visualization libraries\n",
        "%matplotlib inline\n",
        "\n",
        "import numpy as np\n",
        "import matplotlib.pyplot as plt\n",
        "\n",
        "import torch\n",
        "import torch.nn as nn\n",
        "import torch.nn.functional as F\n",
        "from torch.autograd import grad\n",
        "#torch.manual_seed(100) # for generating the same random weights\n",
        "from torch.utils.data import RandomSampler\n",
        "from torch.utils.data import random_split\n",
        "from sklearn.preprocessing import StandardScaler\n",
        "\n",
        "# setting up optimal device\n",
        "print(torch.__version__)\n",
        "device = \"cpu\"\n",
        "if torch.cuda.is_available():\n",
        "    device = \"cuda\"\n",
        "print(\"Running on %s\" % device)\n",
        "\n",
        "# utilities for testing\n",
        "from random import randint\n",
        "from random import shuffle\n",
        "from itertools import permutations\n",
        "from scipy.optimize import linear_sum_assignment\n",
        "import math"
      ],
      "execution_count": 1,
      "outputs": [
        {
          "output_type": "stream",
          "name": "stdout",
          "text": [
            "1.12.1+cu113\n",
            "Running on cpu\n"
          ]
        }
      ]
    },
    {
      "cell_type": "markdown",
      "source": [
        "# Setting up Fully Connected Neural Network"
      ],
      "metadata": {
        "id": "oQsS24fvm1V3"
      }
    },
    {
      "cell_type": "code",
      "metadata": {
        "id": "VjKWqs2akepH"
      },
      "source": [
        "# auxiliary functions for NN - convert to onehot and loss function\n",
        "def label_to_onehot(target, num_classes = 3):\n",
        "    target = torch.unsqueeze(target, 1)\n",
        "    onehot_target = torch.zeros(target.size(0), num_classes, device=target.device)\n",
        "    onehot_target.scatter_(1, target, 1)\n",
        "    return onehot_target\n",
        "\n",
        "# also equivalent to nn.CrossEntropyLoss()\n",
        "def cross_entropy_for_onehot(pred, target):\n",
        "   return torch.mean(torch.sum(- target * F.log_softmax(pred, dim=1), 1))\n",
        "# cross_entropy_for_onehot = nn.CrossEntropyLoss()"
      ],
      "execution_count": 2,
      "outputs": []
    },
    {
      "cell_type": "code",
      "metadata": {
        "id": "AorI020iVjjS"
      },
      "source": [
        "# a random fully connected neural network with random weights and biases\n",
        "def weights_init(m):\n",
        "    if hasattr(m, \"weight\"):\n",
        "        m.weight.data.uniform_(-0.5, 0.5)\n",
        "    if hasattr(m, \"bias\"):\n",
        "        m.bias.data.uniform_(-0.5, 0.5)\n",
        "    \n",
        "class FcNet(nn.Module):\n",
        "    def __init__(self):\n",
        "        super(FcNet, self).__init__()\n",
        "        act = nn.Sigmoid\n",
        "        self.body = nn.Sequential(\n",
        "            nn.Linear(4, 100),\n",
        "            act(),\n",
        "            nn.Linear(100, 100),\n",
        "            act(),\n",
        "            nn.Linear(100, 100),\n",
        "            act(),\n",
        "            nn.Linear(100, 3),\n",
        "            act(),\n",
        "        )\n",
        "        \n",
        "    def forward(self, x):\n",
        "        out = self.body(x)\n",
        "        out = out.view(out.size(0), -1)\n",
        "        return out\n",
        "    \n",
        "net = FcNet().to(device)\n",
        "    \n",
        "net.apply(weights_init)\n",
        "criterion = cross_entropy_for_onehot"
      ],
      "execution_count": 43,
      "outputs": []
    },
    {
      "cell_type": "markdown",
      "source": [
        "# Preprocess Iris Dataset"
      ],
      "metadata": {
        "id": "4LbUBX1Xn-TF"
      }
    },
    {
      "cell_type": "code",
      "source": [
        "# preprocess Iris Dataset for training\n",
        "from sklearn.datasets import load_iris\n",
        "dst = load_iris()\n",
        "dst_length = dst.data.shape[0]\n",
        "\n",
        "train_indices, test_indices = random_split(range(dst_length), [int(dst_length*4/5), int(dst_length*1/5)])\n",
        "train_indices = train_indices.indices\n",
        "test_indices = test_indices.indices\n",
        "train_data = dst.data[train_indices]; train_target = dst.target[train_indices]\n",
        "test_data = dst.data[test_indices]; test_target = dst.target[test_indices]\n",
        "\n",
        "# useful in making a more accurate model\n",
        "scaler = StandardScaler()\n",
        "train_data = scaler.fit_transform(train_data)\n",
        "test_data = scaler.fit_transform(test_data)"
      ],
      "metadata": {
        "id": "LbQ-pcYsVpHt"
      },
      "execution_count": 4,
      "outputs": []
    },
    {
      "cell_type": "markdown",
      "source": [
        "# Train Model Normally"
      ],
      "metadata": {
        "id": "riUm6qIcovj8"
      }
    },
    {
      "cell_type": "code",
      "source": [
        "# train NN while running batch-dlg\n",
        "# Note: converges sometimes to near-optimal predictions\n",
        "def train_net_Adam(train_data, train_target, batch_size = 32, epochs = 100, verbose = False):\n",
        "    train_dst_len = train_data.shape[0]\n",
        "    optimizer = torch.optim.Adam(net.parameters()) #lr=0.001)\n",
        "    for epoch in range(epochs):\n",
        "        optimizer.zero_grad()\n",
        "\n",
        "        rand_subset = list(RandomSampler(range(train_dst_len), num_samples=batch_size))\n",
        "        # print('epoch, randset: ', epoch, rand_subset)\n",
        "        gt_data = torch.tensor(train_data[rand_subset]).to(device)\n",
        "        gt_label = torch.tensor(train_target[rand_subset]).to(device)\n",
        "        gt_onehot_label = label_to_onehot(gt_label, num_classes=3)\n",
        "\n",
        "        output = net(gt_data.float())\n",
        "        #print('adam: ', output.tolist(), gt_onehot_label.tolist())\n",
        "        loss = criterion(output, gt_onehot_label)\n",
        "\n",
        "        loss.backward()\n",
        "        if (verbose):\n",
        "            print('current loss: ', loss)\n",
        "        \n",
        "        optimizer.step()\n",
        "\n",
        "def test_net(test_data, test_target, verbose = False):\n",
        "    test_dst_len = test_data.shape[0]\n",
        "    passed = 0\n",
        "    for input, target in zip(test_data, test_target):\n",
        "        gt_data = torch.tensor(input).to(device)\n",
        "        pred = net(gt_data.float())\n",
        "        #print('input, target, pred: ', input, target, pred)\n",
        "        pred = pred.view(-1)\n",
        "        if (verbose):\n",
        "            print(f'data: {gt_data.tolist()}, pred: {torch.argmax(pred).item()}, label: {target}')\n",
        "        passed += (torch.argmax(pred).item() == target)\n",
        "    print(f'score: {passed}/{test_dst_len}')"
      ],
      "metadata": {
        "id": "F96GffQPLCFz"
      },
      "execution_count": 5,
      "outputs": []
    },
    {
      "cell_type": "code",
      "source": [
        "#@title train with LBFGS optimizer\n",
        "\n",
        "# NOTE: LBFGS isn't converging when using mini-batches\n",
        "def train_net_LBFGS(train_data, train_target, batch_size = 16, epochs = 100):\n",
        "    print(train_data); print(train_target)\n",
        "    train_dst_len = train_data.shape[0]\n",
        "    optimizer = torch.optim.LBFGS(net.parameters(), lr=0.001)\n",
        "    scheduler = torch.optim.lr_scheduler.MultiplicativeLR(optimizer, lambda epoch: 0.99)\n",
        "\n",
        "    for epoch in range(epochs):\n",
        "        rand_subset = list(RandomSampler(range(train_dst_len), num_samples=batch_size))\n",
        "        # print('epoch, randset: ', epoch, rand_subset)\n",
        "        gt_data = torch.tensor(train_data[rand_subset]).to(device)\n",
        "        gt_label = torch.tensor(train_target[rand_subset]).to(device)\n",
        "        gt_onehot_label = label_to_onehot(gt_label, num_classes=3)\n",
        "        #print('lbfgs: ', gt_data, gt_onehot_label)\n",
        "        \n",
        "        def closure():\n",
        "            optimizer.zero_grad()\n",
        "            output = net(gt_data.float())\n",
        "            loss = criterion(output, gt_onehot_label)\n",
        "            loss.backward()\n",
        "            #print(f'output: {output}, onehot_label: {gt_onehot_label}')\n",
        "            print('loss: ', loss)\n",
        "            return loss\n",
        "      \n",
        "        optimizer.step(closure)\n",
        "        scheduler.step()"
      ],
      "metadata": {
        "cellView": "form",
        "id": "7xDEsDg5nSxr"
      },
      "execution_count": null,
      "outputs": []
    },
    {
      "cell_type": "code",
      "source": [
        "# note that parameters batch_size and epochs are tuned to yield a more accurate model\n",
        "net.apply(weights_init)\n",
        "train_net_Adam(train_data, train_target, batch_size = 16, epochs = 200, verbose = False)\n",
        "test_net(test_data, test_target, verbose = False)"
      ],
      "metadata": {
        "colab": {
          "base_uri": "https://localhost:8080/"
        },
        "id": "hqLoSJemoSKp",
        "outputId": "b37999fc-67ce-4a5e-d798-7741b8a3edac"
      },
      "execution_count": 143,
      "outputs": [
        {
          "output_type": "stream",
          "name": "stdout",
          "text": [
            "score: 26/30\n"
          ]
        }
      ]
    },
    {
      "cell_type": "markdown",
      "source": [
        "# Batch-DLG and Optimal Input Assignment"
      ],
      "metadata": {
        "id": "_VPUDx39pTRE"
      }
    },
    {
      "cell_type": "code",
      "source": [
        "#@title Old batch grad (for reference, to delete)\n",
        "# process input flowers and compute gradient of batch\n",
        "def batch_grad_old(flower_indices, verbose = 0):\n",
        "    n = len(flower_indices)\n",
        "\n",
        "    gt_dataset = []\n",
        "    gt_labels = []\n",
        "    for flower_index in flower_indices:\n",
        "        gt_data = torch.tensor(dst.data[flower_index, :]).to(device)\n",
        "        gt_data = gt_data.view(1, *gt_data.size())\n",
        "        gt_dataset.append(gt_data)\n",
        "        gt_label = torch.tensor(dst.target[flower_index]).to(device)\n",
        "        gt_label = gt_label.view(1)\n",
        "        gt_labels.append(gt_label)\n",
        "        gt_onehot_label = label_to_onehot(gt_label, num_classes=3)\n",
        "\n",
        "        # print out (data, label) and verify onehot\n",
        "        if (verbose):\n",
        "            print(f\"gt_data: {gt_data}\")\n",
        "            print(f\"gt_label: {gt_label}\")\n",
        "            print(f\"gt_onehot_label: {gt_onehot_label}\")\n",
        "            print(f\"flower {flower_index} has label (gt, onehot) = ({gt_label.item()}, {torch.argmax(gt_onehot_label, dim=-1).item()})\")\n",
        "\n",
        "        # compute original gradient \n",
        "        out = net(gt_data.float())\n",
        "        y = criterion(out, gt_onehot_label)\n",
        "\n",
        "        if (flower_index == flower_indices[0]):\n",
        "          batch_dy_dx = torch.autograd.grad(y, net.parameters())\n",
        "        else:\n",
        "          batch_dy_dx = tuple(map(sum, zip(batch_dy_dx, torch.autograd.grad(y, net.parameters())))) # sum of gradients\n",
        "\n",
        "    batch_dy_dx = tuple(part/n for part in batch_dy_dx)\n",
        "    original_dy_dx = list((_.detach().clone() for _ in batch_dy_dx)) # share the gradients with other clients\n",
        "\n",
        "    # verifying dy_dx is average of list of flowers\n",
        "    if (verbose >= 2):\n",
        "      print(original_dy_dx)\n",
        "    \n",
        "    return original_dy_dx, gt_dataset, gt_labels"
      ],
      "metadata": {
        "id": "GWL_MjKJIZ9C",
        "cellView": "form"
      },
      "execution_count": 80,
      "outputs": []
    },
    {
      "cell_type": "code",
      "source": [
        "# process input flowers and compute gradient of batch\n",
        "def batch_grad(flower_indices, verbose = 0):\n",
        "    n = len(flower_indices)\n",
        "    # flower_indices = torch.tensor(flower_indices)\n",
        "\n",
        "    gt_data = torch.tensor(dst.data[flower_indices]).to(device)\n",
        "    gt_label = torch.tensor(dst.target[flower_indices]).to(device)\n",
        "    gt_onehot_label = label_to_onehot(gt_label, num_classes=3)\n",
        "\n",
        "    out = net(gt_data.float())\n",
        "    loss = criterion(out, gt_onehot_label)\n",
        "    batch_dy_dx = torch.autograd.grad(loss, net.parameters())\n",
        "    original_dy_dx = list((_.detach().clone() for _ in batch_dy_dx)) # share the gradients with other clients\n",
        "\n",
        "    # verifying dy_dx is average of list of flowers\n",
        "    if (verbose >= 2):\n",
        "      print(original_dy_dx)\n",
        "    \n",
        "    return original_dy_dx, gt_data, gt_label"
      ],
      "metadata": {
        "id": "vOPYnGgVzuD-"
      },
      "execution_count": 81,
      "outputs": []
    },
    {
      "cell_type": "code",
      "metadata": {
        "id": "8mSgR4GClV-8"
      },
      "source": [
        "# DLG algorithm on a given set of flowers and returns the hypothesized input\n",
        "def batch_DLG(original_dy_dx, n, gt_data_len, gt_onehot_label_len, verbose = 0):\n",
        "\n",
        "    # identify (data, label) using LBFGS on the squared difference between the original and guessed gradient\n",
        "    dummy_data = torch.randn(n, gt_data_len).to(device).requires_grad_(True)\n",
        "    dummy_label = torch.randn(n, gt_onehot_label_len).to(device).requires_grad_(True)\n",
        "    optimizer_dlg = torch.optim.LBFGS((dummy_data, dummy_label))\n",
        "\n",
        "    global opt_steps; opt_steps = 0\n",
        "    for iters in range(100):\n",
        "\n",
        "        # closure function needed for LBFGS optimizer\n",
        "        def closure():\n",
        "            global opt_steps; opt_steps += 1\n",
        "\n",
        "            # compute gradient of dummy data/label\n",
        "            optimizer_dlg.zero_grad()\n",
        "            pred = net(dummy_data)\n",
        "            dummy_onehot_label = F.softmax(dummy_label, dim=1)\n",
        "            dummy_loss = criterion(pred, dummy_onehot_label)\n",
        "\n",
        "            dummy_dy_dx = torch.autograd.grad(dummy_loss, net.parameters(), create_graph=True)\n",
        "            \n",
        "            # compute loss function, i.e. the SE of the gradients\n",
        "            grad_diff = 0\n",
        "            grad_count = 0\n",
        "            for gx, gy in zip(dummy_dy_dx, original_dy_dx):\n",
        "                grad_diff += ((gx - gy) ** 2).sum()\n",
        "                grad_count += gx.nelement()\n",
        "\n",
        "            grad_diff.backward()\n",
        "            return grad_diff\n",
        "        \n",
        "        # perform GD and log information\n",
        "        optimizer_dlg.step(closure)\n",
        "        current_loss = closure()\n",
        "        if (verbose == 2):\n",
        "            print('current loss: ', iters, \"%.4f\" % current_loss.item())\n",
        "            print('dummy data: ', dummy_data)\n",
        "            print('dummy labels: ', dummy_label)\n",
        "        \n",
        "        # if current_loss is small enough, then the model has 'converged'\n",
        "        if (current_loss < 1e-9):\n",
        "            break\n",
        "        #if (opt_steps >= 80): # setting an upper limit on the number of optimization steps (e.g. limited attacking capability)\n",
        "        #    break\n",
        "    \n",
        "    return dummy_data, opt_steps"
      ],
      "execution_count": 97,
      "outputs": []
    },
    {
      "cell_type": "code",
      "source": [
        "# find best linear sum assignment\n",
        "def assign_guess(guess, gt_dataset, n, verbose = False):\n",
        "    cost_matrix = [[torch.sum((guess[i]-gt_dataset[j])**2).item() for j in range(n)] for i in range(n)]\n",
        "    row_ind, col_ind = linear_sum_assignment(cost_matrix)\n",
        "    best_MSE = sum([cost_matrix[row_ind[i]][col_ind[i]] for i in range(n)]) / n\n",
        "    if (verbose):\n",
        "        print('best guessed-actual assignment: ', col_ind)\n",
        "        print('best_MSE: ', best_MSE)\n",
        "\n",
        "    guess_perm = [None] * n\n",
        "    for i in range(n):\n",
        "        guess_perm[col_ind[i]] = guess[i]\n",
        "\n",
        "    return guess_perm"
      ],
      "metadata": {
        "id": "N9F7n7IR7MdX"
      },
      "execution_count": 77,
      "outputs": []
    },
    {
      "cell_type": "markdown",
      "source": [
        "# Training Model with Batch-DLG"
      ],
      "metadata": {
        "id": "cdlEvF28zuF5"
      }
    },
    {
      "cell_type": "code",
      "source": [
        "def train_net_Adam_DLG(train_data, train_target, batch_size = 32, epochs = 100, verbose = False, dlg_rate = 10):\n",
        "    train_dst_len = train_data.shape[0]\n",
        "    optimizer = torch.optim.Adam(net.parameters()) #lr=0.001)\n",
        "\n",
        "    # for DLG\n",
        "    dlg_MSE = [[], []]\n",
        "    dlg_n_errors = [[], []]\n",
        "\n",
        "    for epoch in range(epochs):\n",
        "        optimizer.zero_grad()\n",
        "\n",
        "        rand_subset = list(RandomSampler(range(train_dst_len), num_samples=batch_size))\n",
        "        # print('epoch, randset: ', epoch, rand_subset)\n",
        "        gt_data = torch.tensor(train_data[rand_subset]).to(device)\n",
        "        gt_label = torch.tensor(train_target[rand_subset]).to(device)\n",
        "        gt_onehot_label = label_to_onehot(gt_label, num_classes=3)\n",
        "\n",
        "        output = net(gt_data.float())\n",
        "        #print('adam: ', output.tolist(), gt_onehot_label.tolist())\n",
        "        loss = criterion(output, gt_onehot_label)\n",
        "\n",
        "        # Perform DLG ---------------------------------------------------------------\n",
        "\n",
        "        if (epoch%dlg_rate == 0):\n",
        "            batch_dy_dx = torch.autograd.grad(loss, net.parameters(), retain_graph = True)\n",
        "            original_dy_dx = list((_.detach().clone() for _ in batch_dy_dx)) # share the gradients with other clients\n",
        "            guess, steps = batch_DLG(original_dy_dx, batch_size, 4, 3, 1)\n",
        "            guess_perm = assign_guess(guess, gt_data, batch_size, verbose)\n",
        "            MSE = 0\n",
        "            for i in range(batch_size):\n",
        "                SE = torch.sum((guess_perm[i]-gt_data[i])**2).item()\n",
        "                MSE += SE\n",
        "                n_error = (torch.sum((guess_perm[i]-gt_data[i])**2) / (torch.linalg.norm(gt_data[i])**2)).item()\n",
        "                dlg_n_errors[0].append(epoch); dlg_n_errors[1].append(n_error)\n",
        "\n",
        "            MSE /= batch_size\n",
        "            \n",
        "            dlg_MSE[0].append(epoch); dlg_MSE[1].append(MSE)\n",
        "        \n",
        "\n",
        "        # end of DLG ----------------------------------------------------------------\n",
        "\n",
        "        loss.backward()\n",
        "        if (verbose):\n",
        "            print('current loss: ', loss)\n",
        "        \n",
        "        optimizer.step()\n",
        "    \n",
        "    return dlg_MSE, dlg_n_errors"
      ],
      "metadata": {
        "id": "G4aoyTSM-chb"
      },
      "execution_count": 185,
      "outputs": []
    },
    {
      "cell_type": "code",
      "source": [
        "net.apply(weights_init)\n",
        "dlg_MSE, dlg_n_errors = train_net_Adam_DLG(train_data, train_target, batch_size = 16, epochs = 200, verbose = False, dlg_rate = 5)\n",
        "test_net(test_data, test_target, verbose = False)\n",
        "\n",
        "# create pyplot of SE over time\n",
        "plt.plot(dlg_MSE[0], torch.log(torch.tensor(dlg_MSE[1])), 'ro')\n",
        "plt.title('MSE of guessed data over evolution of model')\n",
        "plt.xlabel('time (epochs)')\n",
        "plt.ylabel('MSE (cm^2)')\n",
        "plt.show()\n",
        "\n",
        "plt.plot(dlg_n_errors[0], torch.log(torch.tensor(dlg_n_errors[1])), 'ro')\n",
        "plt.title('normalized error of guessed data over evolution of model')\n",
        "plt.xlabel('time (epochs)')\n",
        "plt.ylabel('normalized error (SE / true norm squared)')\n",
        "plt.show()"
      ],
      "metadata": {
        "colab": {
          "base_uri": "https://localhost:8080/",
          "height": 591
        },
        "id": "w1PLqwS2-mVW",
        "outputId": "b7b8f0f2-9d42-4e7b-9dea-fed5abc12872"
      },
      "execution_count": 196,
      "outputs": [
        {
          "output_type": "stream",
          "name": "stdout",
          "text": [
            "score: 20/30\n"
          ]
        },
        {
          "output_type": "display_data",
          "data": {
            "text/plain": [
              "<Figure size 432x288 with 1 Axes>"
            ],
            "image/png": "[encoded data removed]"
          },
          "metadata": {
            "needs_background": "light"
          }
        },
        {
          "output_type": "display_data",
          "data": {
            "text/plain": [
              "<Figure size 432x288 with 1 Axes>"
            ],
            "image/png": "[encoded data removed]"
          },
          "metadata": {
            "needs_background": "light"
          }
        }
      ]
    },
    {
      "cell_type": "markdown",
      "source": [
        "# Results"
      ],
      "metadata": {
        "id": "NYHduOtfboIn"
      }
    },
    {
      "cell_type": "markdown",
      "source": [
        "# For Reference (to remove)"
      ],
      "metadata": {
        "id": "kNHDbhF0-VWX"
      }
    },
    {
      "cell_type": "code",
      "metadata": {
        "id": "aokP-jhal96-"
      },
      "source": [
        "# testing Batch-DLG on n random flowers\n",
        "def test_rand(n = 10, verbose = False):\n",
        "    length = dst.data.shape[0]\n",
        "    perm = list(range(length))\n",
        "    shuffle(perm)\n",
        "    flower_indices = perm[0:n]\n",
        "    if (verbose):\n",
        "        print('flowers: ', flower_indices)\n",
        "\n",
        "    original_dy_dx, gt_dataset, gt_labels = batch_grad(flower_indices, 0)\n",
        "    guess, steps = batch_DLG(original_dy_dx, n, 4, 3, 1)\n",
        "    if (verbose):\n",
        "        print(f\"Original data: {gt_dataset}\")\n",
        "        print(f\"Predicted data: {guess}\")\n",
        "        print('steps: ', steps)\n",
        "\n",
        "    guess_perm = assign_guess(guess, gt_dataset, n, verbose)\n",
        "\n",
        "    if (verbose):\n",
        "        print('side by side comparison of guessed to actual input data: ')\n",
        "    avg_cos_angle = 0\n",
        "    cos_angles = []\n",
        "    SEs = []\n",
        "    n_errors = []\n",
        "    best_MSE = 0\n",
        "    for i in range(n):\n",
        "        SE = torch.sum((guess_perm[i]-gt_dataset[i])**2).item()\n",
        "        cos_angle = (torch.sum(guess_perm[i]*gt_dataset[i]).item() / (torch.linalg.norm(gt_dataset[i]) * torch.linalg.norm(guess_perm[i]))).item()\n",
        "        cos_angles.append(cos_angle); avg_cos_angle += cos_angle\n",
        "        best_MSE += SE; SEs.append(SE)\n",
        "        n_error = (torch.sum((guess_perm[i]-gt_dataset[i])**2) / (torch.linalg.norm(gt_dataset[i])**2)).item(); n_errors.append(n_error)\n",
        "\n",
        "        if (verbose):\n",
        "            print(i, ':', gt_dataset[i].tolist(), guess_perm[i].tolist())\n",
        "            print('SE: ', SE, 'cos(angle): ', cos_angle)\n",
        "\n",
        "    avg_cos_angle /= n\n",
        "    best_MSE /= n\n",
        "    if (verbose):\n",
        "        print('average cos(angle): ', avg_cos_angle)\n",
        "        print('MSE: ', best_MSE)\n",
        "        print(cos_angles)\n",
        "        print(SEs)\n",
        "        print(n_errors)\n",
        "    \n",
        "    return SEs, cos_angles, n_errors, steps"
      ],
      "execution_count": 78,
      "outputs": []
    },
    {
      "cell_type": "code",
      "source": [
        "# testing batch-DLG on 20 groups of 10 flowers\n",
        "test_len = 10\n",
        "errors = []\n",
        "cos_angles = []\n",
        "n_errors = []\n",
        "optimization_steps = []\n",
        "for i in range(test_len):\n",
        "    terrors, tcos_angles, tn_errors, steps = test_rand(10, False)\n",
        "    #print(terrors, tcos_angles)\n",
        "    errors += terrors\n",
        "    optimization_steps.append(steps)\n",
        "    cos_angles += tcos_angles\n",
        "    n_errors += tn_errors\n",
        "    \n",
        "print(errors)\n",
        "print(optimization_steps)\n",
        "print(cos_angles)\n",
        "print(n_errors)"
      ],
      "metadata": {
        "colab": {
          "base_uri": "https://localhost:8080/"
        },
        "id": "J_cCVDkdlAyt",
        "outputId": "b8dc66c5-dc98-420f-dbd9-3b81d87c74e5"
      },
      "execution_count": 101,
      "outputs": [
        {
          "output_type": "stream",
          "name": "stdout",
          "text": [
            "[2.3446601089363006, 34.472219034986566, 3.912807952167283, 0.14527173830747464, 5.638312943516269, 1.6868576673759306, 28.88330048826552, 0.344529653613356, 0.8080869160971998, 0.5738126446620353, 0.8731898826960088, 1.8692316104848434, 0.3969384911227785, 13.985384978614873, 13.258800760673559, 1.2862895382763107, 2.6918740261069822, 42.77648641639419, 0.5946627384737938, 1.7175004206174591, 0.3824300587653246, 9.16183924574387, 0.26587389744309614, 1.175075701074114, 8.523342039619779, 1.2999915117753529, 0.11491738414905721, 0.19445676196860617, 1.3636930867574848, 1.4020117458943635, 0.08933462051876079, 0.06416510961125832, 0.1547784656126943, 0.08153308774553819, 0.045467496391949115, 0.4503308097027752, 0.08137974202622264, 0.15512380819735225, 0.16462229047361013, 0.09373743032469575, 0.6901337916933918, 5.22846049935971, 0.7902004787512853, 0.532634629806105, 0.1983489931672792, 0.3952148286502919, 13.037033658242292, 0.47171565935053145, 0.6891834710450927, 0.29913327046718785, 0.01381673676447692, 0.5487569222861342, 0.4607454820778958, 0.022078880566729697, 0.049614926383803604, 0.49889754895509425, 0.2777292204094335, 0.07548759322469165, 0.036376777510575296, 0.3720274657695769, 0.23981903503048926, 0.05256546749909829, 6.274635510677145, 0.12450547966984457, 0.17872914510641547, 251.16083539024996, 0.0903459594385396, 0.28607273969701297, 0.11287048754499883, 2.4737283553484497, 13.541675704963685, 0.9835767935756148, 0.638644237525252, 1.311535097621174, 1.898349650445943, 0.20261090619123498, 11.943585635972399, 13.434955514811909, 14.05417366970532, 0.3412052269785543, 0.1241050453731416, 0.5407653456377723, 0.9329176037919844, 0.12742965315289437, 0.12443442095339532, 0.44614792157245764, 0.2426027012105736, 0.09448993373222501, 0.07550444296297078, 0.2038762057450299, 0.08965505783583527, 0.033482413092557756, 0.17124958980446156, 0.15956562036129368, 0.046162716714181914, 0.06609005057654262, 0.016087016465751627, 0.07427400716689267, 0.43808477016443753, 0.17422726865325205]\n",
            "[373, 440, 391, 428, 553, 381, 349, 526, 320, 341]\n",
            "[0.9970058443867514, 0.41537576468775117, 0.9986061757421705, 0.9991513528920514, 0.9590539782050087, 0.9957285188325493, 0.5900358199103714, 0.9974220708344941, 0.9960221996957455, 0.9936673104328501, 0.9978672682366285, 0.9714447888727352, 0.9998613624574891, 0.8882777034600503, 0.8773452875289391, 0.9992552698483772, 0.9942759031446463, 0.6866104943956155, 0.9976427524132835, 0.9857094442915902, 0.9972732833019022, 0.9104676363961446, 0.9988909361945765, 0.9973456732521668, 0.9238310338126055, 0.9836339790342029, 0.999680682956828, 0.9995220484457829, 0.995587575508034, 0.9965771410247592, 0.9994578282761682, 0.9999154716210025, 0.9987854725032513, 0.9994658579266802, 0.9999022877123632, 0.9984223909733371, 0.9993516217620673, 0.9994040995520472, 0.9994042728692923, 0.9995127707999285, 0.988568835205377, 0.9426422946241934, 0.9983016581703754, 0.9972072866121293, 0.9975814693433422, 0.998511886286617, 0.8977074394168282, 0.9958093966743332, 0.9986125308755971, 0.9998923577988521, 0.99990723027132, 0.9996921407966467, 0.9982859489598714, 0.9997050212254052, 0.9997883211248616, 0.9979341252322736, 0.9998776645770666, 0.9999629928220991, 0.9998782852547575, 0.9996028922566084, 0.997277913148791, 0.9998095870052629, 0.944036092550629, 0.9998465568488444, 0.9987781102528671, -0.992836429293665, 0.9992950919232577, 0.9987366348617057, 0.999101098228316, 0.9991908081675174, 0.8660969873325687, 0.9971568330521671, 0.9970748747507335, 0.9966574837939851, 0.9755045270762261, 0.9990087001953122, 0.8827339711682812, 0.8821658415181014, 0.8930788482127519, 0.9995950597174892, 0.9986108782198221, 0.9998513186956759, 0.9965055170056553, 0.9996571953238466, 0.9987912192418613, 0.9985909022647774, 0.9989804887554641, 0.9990616800490745, 0.9990436103085326, 0.998277436078937, 0.9992344642998772, 0.9999081708522141, 0.9994855624080282, 0.99866880875457, 0.9997546742388559, 0.9994048184260632, 0.999830147430525, 0.9990601875919635, 0.999641342765806, 0.9988400009713747]\n",
            "[0.034612638159673755, 0.8274656513438925, 0.053417173408427075, 0.0020020912115142598, 0.17054788092910675, 0.02708941171311917, 0.6847629323913115, 0.005149150405221283, 0.02022239529772773, 0.014701835630592757, 0.008618139387051015, 0.056540581079396364, 0.003459761972655613, 0.31619681163497343, 0.2302674671878006, 0.017500537935732113, 0.03684470334118509, 0.5839793367425828, 0.007904595752675714, 0.04078604655942673, 0.006349494583518589, 0.1745112237284547, 0.003966491085231928, 0.011362170770393675, 0.17974150231167818, 0.03246732047390991, 0.0018316446310018685, 0.0033104658149234966, 0.011464422755422315, 0.01586524551198782, 0.0020466121539234996, 0.0009094983644402314, 0.0026773649128644574, 0.0011092937108236486, 0.0012382215793014463, 0.006399471503521033, 0.0012970950275139092, 0.0017553899309420875, 0.0028461668477456803, 0.00112287290757901, 0.025261119754516538, 0.11339103230014552, 0.009883683286445096, 0.01204238367185406, 0.005401661033967297, 0.004472273720157202, 0.19484432309434005, 0.009451325573042105, 0.00976872389858388, 0.003998038899588184, 0.00018747268337146428, 0.006651599058013748, 0.005633962852505451, 0.0006678427273662946, 0.0005188217754240676, 0.006875655305334819, 0.0026854498202420565, 0.0006506429341897228, 0.0008565287852737297, 0.005349064928390754, 0.005441775244621949, 0.0006311137891595424, 0.11530017476437238, 0.001860790310414655, 0.004040903122460219, 6.285306190947197, 0.0014183039158326466, 0.002947987836943662, 0.0026377772270390005, 0.020308089281244963, 0.24989252085188565, 0.01346258956440754, 0.009427874778937879, 0.024560582352456433, 0.049630056220808974, 0.0023018735081939898, 0.22105470360859522, 0.3670752872899429, 0.40420401696017594, 0.0040345894167973795, 0.0028059019980362114, 0.004380085417445102, 0.01285718858588733, 0.0013481766097428517, 0.0034651746297241796, 0.005248799077323031, 0.004213315408311455, 0.001893965398521247, 0.002147452871529317, 0.00523564986504956, 0.0015500528671479128, 0.0009498556905690144, 0.0033149359234313125, 0.0027711986863718945, 0.0006899225334655794, 0.001544520929575663, 0.0003650332758282648, 0.0019966130958842115, 0.006209564424726258, 0.004554961271980447]\n"
          ]
        }
      ]
    },
    {
      "cell_type": "code",
      "source": [
        "def graph_results(errors, optimization_steps, cos_angles, n_errors):\n",
        "    # visually represent errors in a histogram\n",
        "    plt.hist([math.log(elt) for elt in errors], 50)\n",
        "    plt.title('Distribution of log(SE) of Guessed to Real Input on with 80-100 steps')\n",
        "    plt.ylabel('Frequency')\n",
        "    plt.xlabel('Squared Error (cm^2)')\n",
        "    print('*** change caption This graph was generated on the entire IRIS dataset consisting of 150 flowers.\\nIt utilizes a randomly initialized fully connected NN as its prediction algorithm.')\n",
        "    #plt.savefig('batch-dlg-SE-t.png', dpi=300)\n",
        "    plt.show()\n",
        "\n",
        "    # visually represent normalized errors in a histogram (SE / true norm squared)\n",
        "    plt.hist(n_errors, 50)\n",
        "    plt.title('Distribution of normalized errors with 80-100 steps')\n",
        "    plt.ylabel('Frequency')\n",
        "    plt.xlabel('normalized error (SE / true norm squared)')\n",
        "    #plt.savefig('batch-dlg-PE-t.png', dpi=300)\n",
        "    plt.show()\n",
        "\n",
        "    # visually represent number of optimization steps\n",
        "    plt.hist(optimization_steps, 10)\n",
        "    plt.title('Distribution of Optimization Steps of DLG with 80-100 steps')\n",
        "    plt.xlabel('Number of Optimization Steps')\n",
        "    plt.ylabel('Frequency')\n",
        "    #plt.savefig('batch-dlg-steps-t.png', dpi=300)\n",
        "    print('Note that the number of optimization steps is measured in terms of the number of times the closure function is called in the LBFGS optimizer')\n",
        "    plt.show()\n",
        "\n",
        "    # visually represent avg_cos_angles\n",
        "    plt.hist(cos_angles, 50)\n",
        "    plt.title('Distribution of cos(angles) of DLG with 80-100 steps')\n",
        "    plt.xlabel('cos(angle) similarity')\n",
        "    plt.ylabel('Frequency')\n",
        "    #plt.savefig('batch-dlg-cangles-t.png', dpi=300)\n",
        "    plt.show()"
      ],
      "metadata": {
        "id": "P9169qMxmAWG"
      },
      "execution_count": 102,
      "outputs": []
    },
    {
      "cell_type": "code",
      "source": [
        "graph_results(errors, optimization_steps, cos_angles, n_errors)"
      ],
      "metadata": {
        "colab": {
          "base_uri": "https://localhost:8080/",
          "height": 1000
        },
        "id": "4COPiX7zmWPo",
        "outputId": "3a33be17-1ad7-4002-8e57-325c020ad595"
      },
      "execution_count": 103,
      "outputs": [
        {
          "output_type": "stream",
          "name": "stdout",
          "text": [
            "*** change caption This graph was generated on the entire IRIS dataset consisting of 150 flowers.\n",
            "It utilizes a randomly initialized fully connected NN as its prediction algorithm.\n"
          ]
        },
        {
          "output_type": "display_data",
          "data": {
            "text/plain": [
              "<Figure size 432x288 with 1 Axes>"
            ],
            "image/png": "[encoded data removed]"
          },
          "metadata": {
            "needs_background": "light"
          }
        },
        {
          "output_type": "display_data",
          "data": {
            "text/plain": [
              "<Figure size 432x288 with 1 Axes>"
            ],
            "image/png": "[encoded data removed]"
          },
          "metadata": {
            "needs_background": "light"
          }
        },
        {
          "output_type": "stream",
          "name": "stdout",
          "text": [
            "Note that the number of optimization steps is measured in terms of the number of times the closure function is called in the LBFGS optimizer\n"
          ]
        },
        {
          "output_type": "display_data",
          "data": {
            "text/plain": [
              "<Figure size 432x288 with 1 Axes>"
            ],
            "image/png": "[encoded data removed]"
          },
          "metadata": {
            "needs_background": "light"
          }
        },
        {
          "output_type": "display_data",
          "data": {
            "text/plain": [
              "<Figure size 432x288 with 1 Axes>"
            ],
            "image/png": "[encoded data removed]"
          },
          "metadata": {
            "needs_background": "light"
          }
        }
      ]
    },
    {
      "cell_type": "code",
      "source": [
        "# Todo\n",
        "# results of train_dlg seem worse\n",
        "# - check whether having two optimizers at once reduce the effectiveness of each other (shared tensors might lose gradients)\n",
        "# - see if the model can be trained better\n",
        "# create the 4 graphs above over time and put results in its own section\n",
        "# clean up code and comments\n",
        "# consider factoring out dlg process from the train_adam_dlg"
      ],
      "metadata": {
        "id": "gLZEAjIwTnUb"
      },
      "execution_count": 12,
      "outputs": []
    }
  ]
}