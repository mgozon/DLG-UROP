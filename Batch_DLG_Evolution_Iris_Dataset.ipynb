{
  "nbformat": 4,
  "nbformat_minor": 0,
  "metadata": {
    "colab": {
      "provenance": [],
      "include_colab_link": true
    },
    "kernelspec": {
      "name": "python3",
      "display_name": "Python 3"
    },
    "gpuClass": "standard"
  },
  "cells": [
    {
      "cell_type": "markdown",
      "metadata": {
        "id": "view-in-github",
        "colab_type": "text"
      },
      "source": [
        "<a href=\"https://colab.research.google.com/github/mgozon/DLG-UROP/blob/main/Batch_DLG_Evolution_Iris_Dataset.ipynb\" target=\"_parent\"><img src=\"https://colab.research.google.com/assets/colab-badge.svg\" alt=\"Open In Colab\"/></a>"
      ]
    },
    {
      "cell_type": "markdown",
      "source": [
        "# Batch-DLG Evolution - Iris Dataset\n",
        "This notebook is based on the [Batch-DLG Iris Dataset](https://github.com/mgozon/DLG-UROP/blob/main/Batch_DLG_Iris_Dataset.ipynb), which implements the procedure in [Deep Leakage from Gradients](https://gist.github.com/Lyken17/91b81526a8245a028d4f85ccc9191884) on the Iris Dataset. In particular, a fully connected nueral network is trained using mini-batch gradients which are leaked."
      ],
      "metadata": {
        "id": "EFXvpWu88EO4"
      }
    },
    {
      "cell_type": "markdown",
      "source": [
        "# Setting up Libaries and Utilities"
      ],
      "metadata": {
        "id": "2s36JoDvmtBQ"
      }
    },
    {
      "cell_type": "code",
      "metadata": {
        "id": "NWa7Xo6PkIl3",
        "outputId": "bdcf92d6-a5cb-477f-bed2-75177484d560",
        "colab": {
          "base_uri": "https://localhost:8080/"
        }
      },
      "source": [
        "# setting up machine learning/visualization libraries\n",
        "%matplotlib inline\n",
        "\n",
        "import numpy as np\n",
        "import matplotlib.pyplot as plt\n",
        "\n",
        "import torch\n",
        "import torch.nn as nn\n",
        "import torch.nn.functional as F\n",
        "from torch.autograd import grad\n",
        "#torch.manual_seed(100) # for generating the same random weights\n",
        "from torch.utils.data import RandomSampler\n",
        "from torch.utils.data import random_split\n",
        "from sklearn.preprocessing import StandardScaler\n",
        "\n",
        "# setting up optimal device\n",
        "print(torch.__version__)\n",
        "device = \"cpu\"\n",
        "if torch.cuda.is_available():\n",
        "    device = \"cuda\"\n",
        "print(\"Running on %s\" % device)\n",
        "\n",
        "# utilities for testing\n",
        "from random import randint\n",
        "from random import shuffle\n",
        "from itertools import permutations\n",
        "from scipy.optimize import linear_sum_assignment\n",
        "import math"
      ],
      "execution_count": 172,
      "outputs": [
        {
          "output_type": "stream",
          "name": "stdout",
          "text": [
            "1.12.1+cu113\n",
            "Running on cpu\n"
          ]
        }
      ]
    },
    {
      "cell_type": "markdown",
      "source": [
        "# Setting up Fully Connected Neural Network"
      ],
      "metadata": {
        "id": "oQsS24fvm1V3"
      }
    },
    {
      "cell_type": "code",
      "metadata": {
        "id": "VjKWqs2akepH"
      },
      "source": [
        "# auxiliary functions for NN - convert to onehot and loss function\n",
        "def label_to_onehot(target, num_classes = 3):\n",
        "    target = torch.unsqueeze(target, 1)\n",
        "    onehot_target = torch.zeros(target.size(0), num_classes, device=target.device)\n",
        "    onehot_target.scatter_(1, target, 1)\n",
        "    return onehot_target\n",
        "\n",
        "# also equivalent to nn.CrossEntropyLoss()\n",
        "def cross_entropy_for_onehot(pred, target):\n",
        "   return torch.mean(torch.sum(- target * F.log_softmax(pred, dim=1), 1))\n",
        "# cross_entropy_for_onehot = nn.CrossEntropyLoss()"
      ],
      "execution_count": 241,
      "outputs": []
    },
    {
      "cell_type": "code",
      "metadata": {
        "id": "AorI020iVjjS"
      },
      "source": [
        "# a random fully connected neural network with random weights and biases\n",
        "def weights_init(m):\n",
        "    if hasattr(m, \"weight\"):\n",
        "        m.weight.data.uniform_(-0.5, 0.5)\n",
        "    if hasattr(m, \"bias\"):\n",
        "        m.bias.data.uniform_(-0.5, 0.5)\n",
        "    \n",
        "class FcNet(nn.Module):\n",
        "    def __init__(self):\n",
        "        super(FcNet, self).__init__()\n",
        "        act = nn.Sigmoid\n",
        "        self.body = nn.Sequential(\n",
        "            nn.Linear(4, 100),\n",
        "            act(),\n",
        "            nn.Linear(100, 100),\n",
        "            act(),\n",
        "            nn.Linear(100, 100),\n",
        "            act(),\n",
        "            nn.Linear(100, 3),\n",
        "            act(),\n",
        "        )\n",
        "        \n",
        "    def forward(self, x):\n",
        "        out = self.body(x)\n",
        "        out = out.view(out.size(0), -1)\n",
        "        return out\n",
        "    \n",
        "net = FcNet().to(device)\n",
        "    \n",
        "net.apply(weights_init)\n",
        "criterion = cross_entropy_for_onehot"
      ],
      "execution_count": 242,
      "outputs": []
    },
    {
      "cell_type": "markdown",
      "source": [
        "# Preprocess Iris Dataset"
      ],
      "metadata": {
        "id": "4LbUBX1Xn-TF"
      }
    },
    {
      "cell_type": "code",
      "source": [
        "# preprocess Iris Dataset for training\n",
        "from sklearn.datasets import load_iris\n",
        "dst = load_iris()\n",
        "dst_length = dst.data.shape[0]\n",
        "\n",
        "train_indices, test_indices = random_split(range(dst_length), [int(dst_length*4/5), int(dst_length*1/5)])\n",
        "train_indices = train_indices.indices\n",
        "test_indices = test_indices.indices\n",
        "train_data = dst.data[train_indices]; train_target = dst.target[train_indices]\n",
        "test_data = dst.data[test_indices]; test_target = dst.target[test_indices]\n",
        "\n",
        "# useful in making a more accurate model\n",
        "scaler = StandardScaler()\n",
        "train_data = scaler.fit_transform(train_data)\n",
        "test_data = scaler.fit_transform(test_data)"
      ],
      "metadata": {
        "id": "LbQ-pcYsVpHt"
      },
      "execution_count": 175,
      "outputs": []
    },
    {
      "cell_type": "markdown",
      "source": [
        "# Train Model Normally"
      ],
      "metadata": {
        "id": "riUm6qIcovj8"
      }
    },
    {
      "cell_type": "code",
      "source": [
        "# train NN while running batch-dlg\n",
        "# Note: converges sometimes to near-optimal predictions\n",
        "def train_net_Adam(train_data, train_target, batch_size = 32, epochs = 100, verbose = False):\n",
        "    train_dst_len = train_data.shape[0]\n",
        "    optimizer = torch.optim.Adam(net.parameters()) #lr=0.001)\n",
        "    for epoch in range(epochs):\n",
        "        optimizer.zero_grad()\n",
        "\n",
        "        rand_subset = list(RandomSampler(range(train_dst_len), num_samples=batch_size))\n",
        "        # print('epoch, randset: ', epoch, rand_subset)\n",
        "        gt_data = torch.tensor(train_data[rand_subset]).to(device)\n",
        "        gt_label = torch.tensor(train_target[rand_subset]).to(device)\n",
        "        gt_onehot_label = label_to_onehot(gt_label, num_classes=3)\n",
        "\n",
        "        output = net(gt_data.float())\n",
        "        #print('adam: ', output.tolist(), gt_onehot_label.tolist())\n",
        "        loss = criterion(output, gt_onehot_label)\n",
        "\n",
        "        loss.backward()\n",
        "        if (verbose):\n",
        "            print('current loss: ', loss)\n",
        "        \n",
        "        optimizer.step()\n",
        "\n",
        "def test_net(test_data, test_target, verbose = False):\n",
        "    test_dst_len = test_data.shape[0]\n",
        "    passed = 0\n",
        "    for input, target in zip(test_data, test_target):\n",
        "        gt_data = torch.tensor(input).to(device)\n",
        "        pred = net(gt_data.float())\n",
        "        #print('input, target, pred: ', input, target, pred)\n",
        "        pred = pred.view(-1)\n",
        "        if (verbose):\n",
        "            print(f'data: {gt_data.tolist()}, pred: {torch.argmax(pred).item()}, label: {target}')\n",
        "        passed += (torch.argmax(pred).item() == target)\n",
        "    print(f'score: {passed}/{test_dst_len}')"
      ],
      "metadata": {
        "id": "F96GffQPLCFz"
      },
      "execution_count": 182,
      "outputs": []
    },
    {
      "cell_type": "code",
      "source": [
        "#@title train with LBFGS optimizer\n",
        "\n",
        "# NOTE: LBFGS isn't converging when using mini-batches\n",
        "def train_net_LBFGS(train_data, train_target, batch_size = 16, epochs = 100):\n",
        "    print(train_data); print(train_target)\n",
        "    train_dst_len = train_data.shape[0]\n",
        "    optimizer = torch.optim.LBFGS(net.parameters(), lr=0.001)\n",
        "    scheduler = torch.optim.lr_scheduler.MultiplicativeLR(optimizer, lambda epoch: 0.99)\n",
        "\n",
        "    for epoch in range(epochs):\n",
        "        rand_subset = list(RandomSampler(range(train_dst_len), num_samples=batch_size))\n",
        "        # print('epoch, randset: ', epoch, rand_subset)\n",
        "        gt_data = torch.tensor(train_data[rand_subset]).to(device)\n",
        "        gt_label = torch.tensor(train_target[rand_subset]).to(device)\n",
        "        gt_onehot_label = label_to_onehot(gt_label, num_classes=3)\n",
        "        #print('lbfgs: ', gt_data, gt_onehot_label)\n",
        "        \n",
        "        def closure():\n",
        "            optimizer.zero_grad()\n",
        "            output = net(gt_data.float())\n",
        "            loss = criterion(output, gt_onehot_label)\n",
        "            loss.backward()\n",
        "            #print(f'output: {output}, onehot_label: {gt_onehot_label}')\n",
        "            print('loss: ', loss)\n",
        "            return loss\n",
        "      \n",
        "        optimizer.step(closure)\n",
        "        scheduler.step()"
      ],
      "metadata": {
        "cellView": "form",
        "id": "7xDEsDg5nSxr"
      },
      "execution_count": null,
      "outputs": []
    },
    {
      "cell_type": "code",
      "source": [
        "# note that parameters batch_size and epochs are tuned to yield a more accurate model\n",
        "train_net_Adam(train_data, train_target, batch_size = 16, epochs = 200, verbose = False)\n",
        "test_net(test_data, test_target, verbose = False)"
      ],
      "metadata": {
        "colab": {
          "base_uri": "https://localhost:8080/"
        },
        "id": "hqLoSJemoSKp",
        "outputId": "062ea6a1-7d5e-40f2-c3d4-2d7a47b9dfa0"
      },
      "execution_count": 185,
      "outputs": [
        {
          "output_type": "stream",
          "name": "stdout",
          "text": [
            "score: 29/30\n"
          ]
        }
      ]
    },
    {
      "cell_type": "markdown",
      "source": [
        "# Batch-DLG and Optimal Input Assignment"
      ],
      "metadata": {
        "id": "_VPUDx39pTRE"
      }
    },
    {
      "cell_type": "code",
      "source": [
        "# process input flowers and compute gradient of batch\n",
        "def batch_grad(flower_indices, verbose = 0):\n",
        "    n = len(flower_indices)\n",
        "    # flower_indices = torch.tensor(flower_indices)\n",
        "\n",
        "    gt_dataset = torch.tensor(dst.data[flower_indices])\n",
        "    gt_labels = torch.tensor(dst.target[flower_indices])\n",
        "    for flower_index in flower_indices:\n",
        "        gt_data = torch.tensor(dst.data[flower_index, :]).to(device)\n",
        "        gt_data = gt_data.view(1, *gt_data.size())\n",
        "        gt_label = torch.tensor(dst.target[flower_index]).to(device)\n",
        "        gt_label = gt_label.view(1)\n",
        "        gt_onehot_label = label_to_onehot(gt_label, num_classes=3)\n",
        "\n",
        "        # print out (data, label) and verify onehot\n",
        "        if (verbose):\n",
        "            print(f\"gt_data: {gt_data}\")\n",
        "            print(f\"gt_label: {gt_label}\")\n",
        "            print(f\"gt_onehot_label: {gt_onehot_label}\")\n",
        "            print(f\"flower {flower_index} has label (gt, onehot) = ({gt_label.item()}, {torch.argmax(gt_onehot_label, dim=-1).item()})\")\n",
        "\n",
        "        # compute original gradient \n",
        "        out = net(gt_data.float())\n",
        "        y = criterion(out, gt_onehot_label)\n",
        "\n",
        "        if (flower_index == flower_indices[0]):\n",
        "          batch_dy_dx = torch.autograd.grad(y, net.parameters())\n",
        "        else:\n",
        "          batch_dy_dx = tuple(map(sum, zip(batch_dy_dx, torch.autograd.grad(y, net.parameters())))) # sum of gradients\n",
        "\n",
        "    batch_dy_dx = tuple(part/n for part in batch_dy_dx)\n",
        "    original_dy_dx = list((_.detach().clone() for _ in batch_dy_dx)) # share the gradients with other clients\n",
        "\n",
        "    # verifying dy_dx is average of list of flowers\n",
        "    if (verbose >= 2):\n",
        "      print(original_dy_dx)\n",
        "    \n",
        "    return original_dy_dx, gt_dataset, gt_labels"
      ],
      "metadata": {
        "id": "GWL_MjKJIZ9C"
      },
      "execution_count": 248,
      "outputs": []
    },
    {
      "cell_type": "code",
      "metadata": {
        "id": "8mSgR4GClV-8"
      },
      "source": [
        "# DLG algorithm on a given set of flowers and returns the hypothesized input\n",
        "def batch_DLG(original_dy_dx, n, gt_data_len, gt_onehot_label_len, verbose = 0):\n",
        "\n",
        "    # identify (data, label) using LBFGS on the squared difference between the original and guessed gradient\n",
        "    dummy_data = [torch.randn(gt_data_len).to(device).requires_grad_(True) for i in range(n)]\n",
        "    dummy_label = [torch.randn(gt_onehot_label_len).to(device).requires_grad_(True) for i in range(n)]\n",
        "    optimizer_dlg = torch.optim.LBFGS(dummy_data+dummy_label) # \n",
        "\n",
        "    global opt_steps; opt_steps = 0\n",
        "    for iters in range(100):\n",
        "\n",
        "        # closure function needed for LBFGS optimizer\n",
        "        def closure():\n",
        "            global opt_steps; opt_steps += 1\n",
        "\n",
        "            # compute gradient of dummy data/label\n",
        "            optimizer_dlg.zero_grad()\n",
        "            for i in range(n):\n",
        "                pred = net(dummy_data[i]) \n",
        "                #print(f\"prediction: {pred} from data: {dummy_data.data} and label: {dummy_label}\") # uncomment to see optimization updates\n",
        "                dummy_onehot_label = F.softmax(dummy_label[i], dim=-1)\n",
        "                dummy_loss = criterion(pred, dummy_onehot_label) if (i == 0) else dummy_loss + criterion(pred, dummy_onehot_label)\n",
        "            \n",
        "            dummy_loss /= n\n",
        "            dummy_dy_dx = torch.autograd.grad(dummy_loss, net.parameters(), create_graph=True)\n",
        "            \n",
        "            # compute loss function, i.e. the SE of the gradients\n",
        "            grad_diff = 0\n",
        "            grad_count = 0\n",
        "            for gx, gy in zip(dummy_dy_dx, original_dy_dx):\n",
        "                grad_diff += ((gx - gy) ** 2).sum()\n",
        "                grad_count += gx.nelement()\n",
        "\n",
        "            grad_diff.backward()\n",
        "            return grad_diff\n",
        "        \n",
        "        # perform GD and log information\n",
        "        optimizer_dlg.step(closure)\n",
        "        current_loss = closure()\n",
        "        if (verbose == 2):\n",
        "            print('current loss: ', iters, \"%.4f\" % current_loss.item())\n",
        "            print('dummy data: ', dummy_data)\n",
        "            print('dummy labels: ', dummy_label)\n",
        "        \n",
        "        # if current_loss is small enough, then the model has 'converged'\n",
        "        if (current_loss < 1e-9):\n",
        "            break\n",
        "        #if (opt_steps >= 80): # setting an upper limit on the number of optimization steps (e.g. limited attacking capability)\n",
        "        #    break\n",
        "    \n",
        "    return dummy_data, opt_steps"
      ],
      "execution_count": 235,
      "outputs": []
    },
    {
      "cell_type": "code",
      "source": [
        "# find best linear sum assignment\n",
        "def assign_guess(guess, gt_dataset, n, verbose = False):\n",
        "    cost_matrix = [[torch.sum((guess[i]-gt_dataset[j])**2).item() for j in range(n)] for i in range(n)]\n",
        "    row_ind, col_ind = linear_sum_assignment(cost_matrix)\n",
        "    best_MSE = sum([cost_matrix[row_ind[i]][col_ind[i]] for i in range(n)]) / n\n",
        "    if (verbose):\n",
        "        print('best guessed-actual assignment: ', col_ind)\n",
        "        print('best_MSE: ', best_MSE)\n",
        "\n",
        "    guess_perm = [None] * n\n",
        "    for i in range(n):\n",
        "        guess_perm[col_ind[i]] = guess[i]\n",
        "\n",
        "    return guess_perm"
      ],
      "metadata": {
        "id": "N9F7n7IR7MdX"
      },
      "execution_count": 250,
      "outputs": []
    },
    {
      "cell_type": "markdown",
      "source": [
        "# Training Model with Batch-DLG"
      ],
      "metadata": {
        "id": "cdlEvF28zuF5"
      }
    },
    {
      "cell_type": "code",
      "metadata": {
        "id": "aokP-jhal96-"
      },
      "source": [
        "# testing Batch-DLG on n random flowers\n",
        "def test_rand(n = 10, verbose = False):\n",
        "    length = dst.data.shape[0]\n",
        "    perm = list(range(length))\n",
        "    shuffle(perm)\n",
        "    flower_indices = perm[0:n]\n",
        "    if (verbose):\n",
        "        print('flowers: ', flower_indices)\n",
        "\n",
        "    original_dy_dx, gt_dataset, gt_labels = batch_grad(flower_indices, 0)\n",
        "    guess, steps = batch_DLG(original_dy_dx, n, gt_dataset.shape[1], 3, 1)\n",
        "    if (verbose):\n",
        "        print(f\"Original data: {gt_dataset}\")\n",
        "        print(f\"Predicted data: {guess}\")\n",
        "        print('steps: ', steps)\n",
        "\n",
        "    guess_perm = assign_guess(guess, gt_dataset, n, verbose)\n",
        "\n",
        "    if (verbose):\n",
        "        print('side by side comparison of guessed to actual input data: ')\n",
        "    avg_cos_angle = 0\n",
        "    cos_angles = []\n",
        "    SEs = []\n",
        "    n_errors = []\n",
        "    best_MSE = 0\n",
        "    for i in range(n):\n",
        "        SE = torch.sum((guess_perm[i]-gt_dataset[i])**2).item()\n",
        "        cos_angle = (torch.sum(guess_perm[i]*gt_dataset[i]).item() / (torch.linalg.norm(gt_dataset[i]) * torch.linalg.norm(guess_perm[i]))).item()\n",
        "        cos_angles.append(cos_angle); avg_cos_angle += cos_angle\n",
        "        best_MSE += SE; SEs.append(SE)\n",
        "        n_error = (torch.sum((guess_perm[i]-gt_dataset[i])**2) / (torch.linalg.norm(gt_dataset[i])**2)).item(); n_errors.append(n_error)\n",
        "\n",
        "        if (verbose):\n",
        "            print(i, ':', gt_dataset[i].tolist(), guess_perm[i].tolist())\n",
        "            print('SE: ', SE, 'cos(angle): ', cos_angle)\n",
        "\n",
        "    avg_cos_angle /= n\n",
        "    best_MSE /= n\n",
        "    if (verbose):\n",
        "        print('average cos(angle): ', avg_cos_angle)\n",
        "        print('MSE: ', best_MSE)\n",
        "        print(cos_angles)\n",
        "        print(SEs)\n",
        "        print(n_errors)\n",
        "    \n",
        "    return SEs, cos_angles, n_errors, steps"
      ],
      "execution_count": 237,
      "outputs": []
    },
    {
      "cell_type": "code",
      "source": [
        "# testing batch-DLG on 20 groups of 10 flowers\n",
        "test_len = 5\n",
        "errors = []\n",
        "cos_angles = []\n",
        "n_errors = []\n",
        "optimization_steps = []\n",
        "for i in range(test_len):\n",
        "    terrors, tcos_angles, tn_errors, steps = test_rand(10, False)\n",
        "    #print(terrors, tcos_angles)\n",
        "    errors += terrors\n",
        "    optimization_steps.append(steps)\n",
        "    cos_angles += tcos_angles\n",
        "    n_errors += tn_errors\n",
        "    \n",
        "print(errors)\n",
        "print(optimization_steps)\n",
        "print(cos_angles)\n",
        "print(n_errors)"
      ],
      "metadata": {
        "colab": {
          "base_uri": "https://localhost:8080/"
        },
        "id": "J_cCVDkdlAyt",
        "outputId": "e6d875ef-ffac-47d7-9fc7-4b4d73b16816"
      },
      "execution_count": 252,
      "outputs": [
        {
          "output_type": "stream",
          "name": "stdout",
          "text": [
            "[62.13488158365228, 54.520668721454165, 49.5079012101853, 47.471721058068, 72.09008159578109, 50.399652028000965, 72.9885778608398, 39.87266853707694, 50.51054739617, 66.05068777582986, 56.16505783267016, 42.19709750860096, 80.21996437297162, 70.2923492658817, 57.19364289824876, 51.91828925631897, 59.101899725047645, 55.34080603462993, 67.18254962700249, 50.260662479745186, 99.4329535834184, 72.72968998338409, 63.99491785605725, 92.18597911863166, 86.05545903769898, 76.98502829085852, 75.63736015825904, 96.2327224787826, 70.51989784231684, 69.52595638337498, 62.99692469375841, 67.01967522814417, 79.03055532077019, 55.74279642951113, 77.59763882628269, 84.66174734102219, 32.388276655946065, 61.96700927815033, 40.68248767940649, 74.6571900051917, 63.678452220527205, 54.31531634292149, 43.89450710937658, 54.25795233676553, 57.778832657667046, 58.845831725993335, 81.911340425357, 72.1769569621519, 50.22855014014893, 67.39018676862413]\n",
            "[200, 200, 200, 200, 200]\n",
            "[0.3972595046158868, -0.6580695907378604, 0.7654959610570029, -0.45431970260134186, 0.4292071812318958, -0.6123182907236898, -0.36840652789974043, 0.3088131906423573, 0.7369636717583702, 0.7620309160254354, -0.01135784943871684, 0.20740523752305487, 0.9453014461517071, -0.026109916218230486, -0.4585277392869432, -0.9332975132205966, -0.23729415823653727, 0.4146171410067704, 0.6684937018305254, -0.01266793133610629, 0.4825317722933294, 0.20560484660431072, -0.24558442781676257, 0.0380581555243869, -0.5345578718147872, -0.5825784334005388, 0.31427042949651807, 0.2530415044890552, -0.745823158921896, 0.3126896240104949, -0.7957475380388856, -0.7473042824731417, -0.5819876694199451, -0.6994477554921866, 0.48112021064883864, 0.13026054084397853, 0.45712575802564037, -0.7669808762548812, -0.10463062300212515, 0.014518076040046093, -0.060276739394615565, -0.6418204612632399, -0.06863464141653218, 0.9632917605069186, 0.7624470362587491, 0.04052302220288053, 0.11792227049049342, -0.3105125801608216, -0.21611231942305148, 0.26043920373411855]\n",
            "[0.864665760974844, 1.8313963292393067, 0.7890962896108593, 1.2528825826885195, 0.8536421740175377, 1.4797314159718427, 1.2676029499972177, 0.9047576250754923, 0.6661902848347403, 0.7504054507592577, 1.0320664798359087, 0.9575016453052182, 0.691432204559314, 1.1034905693231034, 1.3102781878178407, 1.4728592696828078, 1.1657179432948253, 0.8820657640202413, 0.8047741929444476, 1.24840194932303, 0.8053859839901051, 0.959621189911388, 1.1809359264819568, 1.0414141337396257, 1.2703787870932828, 1.3079345615164548, 0.9248882386678777, 0.9497899968296742, 1.926773165090624, 0.9326084021914818, 1.4910514720416193, 2.2512487480061862, 1.1202063121299815, 1.6390119502943585, 0.8469508712757332, 1.023721249589144, 0.8062802254405294, 1.8177474120900656, 1.1115433792187566, 1.0340331025649818, 1.0497601750828751, 1.39807764074444, 1.0389232451923451, 0.6882033528255392, 0.6364008443404233, 1.0018016977526956, 0.9904636085291053, 1.0767858714329688, 1.4346915207126227, 0.937798312950517]\n"
          ]
        }
      ]
    },
    {
      "cell_type": "code",
      "source": [
        "def graph_results(errors, optimization_steps, cos_angles, n_errors):\n",
        "    # visually represent errors in a histogram\n",
        "    plt.hist([math.log(elt) for elt in errors], 50)\n",
        "    plt.title('Distribution of log(SE) of Guessed to Real Input on with 80-100 steps')\n",
        "    plt.ylabel('Frequency')\n",
        "    plt.xlabel('Squared Error (cm^2)')\n",
        "    print('*** change caption This graph was generated on the entire IRIS dataset consisting of 150 flowers.\\nIt utilizes a randomly initialized fully connected NN as its prediction algorithm.')\n",
        "    #plt.savefig('batch-dlg-SE-t.png', dpi=300)\n",
        "    plt.show()\n",
        "\n",
        "    # visually represent normalized errors in a histogram (SE / true norm squared)\n",
        "    plt.hist(n_errors, 50)\n",
        "    plt.title('Distribution of normalized errors with 80-100 steps')\n",
        "    plt.ylabel('Frequency')\n",
        "    plt.xlabel('normalized error (SE / true norm squared)')\n",
        "    #plt.savefig('batch-dlg-PE-t.png', dpi=300)\n",
        "    plt.show()\n",
        "\n",
        "    # visually represent number of optimization steps\n",
        "    plt.hist(optimization_steps, 10)\n",
        "    plt.title('Distribution of Optimization Steps of DLG with 80-100 steps')\n",
        "    plt.xlabel('Number of Optimization Steps')\n",
        "    plt.ylabel('Frequency')\n",
        "    #plt.savefig('batch-dlg-steps-t.png', dpi=300)\n",
        "    print('Note that the number of optimization steps is measured in terms of the number of times the closure function is called in the LBFGS optimizer')\n",
        "    plt.show()\n",
        "\n",
        "    # visually represent avg_cos_angles\n",
        "    plt.hist(cos_angles, 50)\n",
        "    plt.title('Distribution of cos(angles) of DLG with 80-100 steps')\n",
        "    plt.xlabel('cos(angle) similarity')\n",
        "    plt.ylabel('Frequency')\n",
        "    #plt.savefig('batch-dlg-cangles-t.png', dpi=300)\n",
        "    plt.show()"
      ],
      "metadata": {
        "id": "P9169qMxmAWG"
      },
      "execution_count": 251,
      "outputs": []
    },
    {
      "cell_type": "code",
      "source": [
        "graph_results(errors, optimization_steps, cos_angles, n_errors)"
      ],
      "metadata": {
        "colab": {
          "base_uri": "https://localhost:8080/",
          "height": 1000
        },
        "id": "4COPiX7zmWPo",
        "outputId": "d14e7a83-b21a-48cc-9559-287d53efc7ad"
      },
      "execution_count": 11,
      "outputs": [
        {
          "output_type": "stream",
          "name": "stdout",
          "text": [
            "*** change caption This graph was generated on the entire IRIS dataset consisting of 150 flowers.\n",
            "It utilizes a randomly initialized fully connected NN as its prediction algorithm.\n"
          ]
        },
        {
          "output_type": "display_data",
          "data": {
            "text/plain": [
              "<Figure size 432x288 with 1 Axes>"
            ],
            "image/png": "[encoded data removed]"
          },
          "metadata": {
            "needs_background": "light"
          }
        },
        {
          "output_type": "display_data",
          "data": {
            "text/plain": [
              "<Figure size 432x288 with 1 Axes>"
            ],
            "image/png": "[encoded data removed]"
          },
          "metadata": {
            "needs_background": "light"
          }
        },
        {
          "output_type": "stream",
          "name": "stdout",
          "text": [
            "Note that the number of optimization steps is measured in terms of the number of times the closure function is called in the LBFGS optimizer\n"
          ]
        },
        {
          "output_type": "display_data",
          "data": {
            "text/plain": [
              "<Figure size 432x288 with 1 Axes>"
            ],
            "image/png": "[encoded data removed]"
          },
          "metadata": {
            "needs_background": "light"
          }
        },
        {
          "output_type": "display_data",
          "data": {
            "text/plain": [
              "<Figure size 432x288 with 1 Axes>"
            ],
            "image/png": "[encoded data removed]"
          },
          "metadata": {
            "needs_background": "light"
          }
        }
      ]
    },
    {
      "cell_type": "code",
      "source": [
        "# Todo\n",
        "# consider baseline feature set to the dlg model\n",
        "# see whether dlg is possible on model that is being updated\n",
        "\n",
        "# apply dlg during training - after each minibatch update\n",
        "# make a graph on error vs epochs over time of batch-dlg\n",
        "# same batch size for updates and leakage\n",
        "# fedscale - production federated learning\n",
        "\n",
        "# rewrite batch-grad without for loop\n",
        "# rewrite train_net_Adam with DLG\n",
        "# --> plot SE over time, maybe graphs over time"
      ],
      "metadata": {
        "id": "gLZEAjIwTnUb"
      },
      "execution_count": 12,
      "outputs": []
    }
  ]
}