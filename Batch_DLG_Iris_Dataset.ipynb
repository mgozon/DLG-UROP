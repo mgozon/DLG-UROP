{
  "nbformat": 4,
  "nbformat_minor": 0,
  "metadata": {
    "colab": {
      "provenance": [],
      "collapsed_sections": [],
      "include_colab_link": true
    },
    "kernelspec": {
      "name": "python3",
      "display_name": "Python 3"
    },
    "accelerator": "GPU"
  },
  "cells": [
    {
      "cell_type": "markdown",
      "metadata": {
        "id": "view-in-github",
        "colab_type": "text"
      },
      "source": [
        "<a href=\"https://colab.research.google.com/github/mgozon/DLG-UROP/blob/main/Batch_DLG_Iris_Dataset.ipynb\" target=\"_parent\"><img src=\"https://colab.research.google.com/assets/colab-badge.svg\" alt=\"Open In Colab\"/></a>"
      ]
    },
    {
      "cell_type": "markdown",
      "source": [
        "# Batch-DLG - Iris Dataset\n",
        "This notebook modifies the code in [Deep Leakage from Gradients](https://gist.github.com/Lyken17/91b81526a8245a028d4f85ccc9191884) to work with the Iris Dataset. In addition, it explores whether it is possible to repeat the same procedure on the batch input gradient."
      ],
      "metadata": {
        "id": "EFXvpWu88EO4"
      }
    },
    {
      "cell_type": "code",
      "metadata": {
        "id": "NWa7Xo6PkIl3",
        "outputId": "83b64f78-4f8f-43f3-f8e1-18f6282569be",
        "colab": {
          "base_uri": "https://localhost:8080/"
        }
      },
      "source": [
        "# setting up libraries and device\n",
        "%matplotlib inline\n",
        "\n",
        "import numpy as np\n",
        "import matplotlib.pyplot as plt\n",
        "\n",
        "import torch\n",
        "import torch.nn as nn\n",
        "import torch.nn.functional as F\n",
        "from torch.autograd import grad\n",
        "torch.manual_seed(100) # for generating the same random weights\n",
        "\n",
        "# for testing\n",
        "from random import randint\n",
        "from random import shuffle\n",
        "from itertools import permutations\n",
        "from scipy.optimize import linear_sum_assignment\n",
        "\n",
        "from sklearn.datasets import load_iris\n",
        "dst = load_iris()\n",
        "\n",
        "print(torch.__version__)\n",
        "device = \"cpu\"\n",
        "if torch.cuda.is_available():\n",
        "    device = \"cuda\"\n",
        "print(\"Running on %s\" % device)"
      ],
      "execution_count": 2,
      "outputs": [
        {
          "output_type": "stream",
          "name": "stdout",
          "text": [
            "1.12.1+cu113\n",
            "Running on cuda\n"
          ]
        }
      ]
    },
    {
      "cell_type": "code",
      "metadata": {
        "id": "VjKWqs2akepH"
      },
      "source": [
        "# auxiliary functions for NN - conver to onehot and loss function\n",
        "def label_to_onehot(target, num_classes = 3):\n",
        "    target = torch.unsqueeze(target, 1)\n",
        "    onehot_target = torch.zeros(target.size(0), num_classes, device=target.device)\n",
        "    onehot_target.scatter_(1, target, 1)\n",
        "    return onehot_target\n",
        "\n",
        "def cross_entropy_for_onehot(pred, target):\n",
        "    return torch.mean(torch.sum(- target * F.log_softmax(pred, dim=-1), 1))"
      ],
      "execution_count": 3,
      "outputs": []
    },
    {
      "cell_type": "code",
      "metadata": {
        "id": "AorI020iVjjS"
      },
      "source": [
        "# a random fully connected neural network with random weights and biases\n",
        "def weights_init(m):\n",
        "    if hasattr(m, \"weight\"):\n",
        "        m.weight.data.uniform_(-0.5, 0.5)\n",
        "    if hasattr(m, \"bias\"):\n",
        "        m.bias.data.uniform_(-0.5, 0.5)\n",
        "    \n",
        "class FcNet(nn.Module):\n",
        "    def __init__(self):\n",
        "        super(FcNet, self).__init__()\n",
        "        act = nn.Sigmoid\n",
        "        self.body = nn.Sequential(\n",
        "            nn.Linear(4, 100),\n",
        "            act(),\n",
        "            nn.Linear(100, 100),\n",
        "            act(),\n",
        "            nn.Linear(100, 100),\n",
        "            act(),\n",
        "            nn.Linear(100, 3),\n",
        "            act(),\n",
        "        )\n",
        "        \n",
        "    def forward(self, x):\n",
        "        out = self.body(x)\n",
        "        out = out.view(out.size(0), -1)\n",
        "        return out\n",
        "    \n",
        "net = FcNet().to(device)\n",
        "    \n",
        "net.apply(weights_init)\n",
        "criterion = cross_entropy_for_onehot"
      ],
      "execution_count": 4,
      "outputs": []
    },
    {
      "cell_type": "code",
      "source": [
        "# process input flowers and compute gradient of batch\n",
        "def batch_grad(flower_indices, verbose = 0):\n",
        "    n = len(flower_indices)\n",
        "\n",
        "    gt_dataset = []\n",
        "    gt_labels = []\n",
        "    for flower_index in flower_indices:\n",
        "        gt_data = torch.tensor(dst.data[flower_index, :]).to(device)\n",
        "        gt_data = gt_data.view(1, *gt_data.size())\n",
        "        gt_dataset.append(gt_data)\n",
        "        gt_label = torch.tensor(dst.target[flower_index]).to(device)\n",
        "        gt_label = gt_label.view(1)\n",
        "        gt_labels.append(gt_label)\n",
        "        gt_onehot_label = label_to_onehot(gt_label, num_classes=3)\n",
        "\n",
        "        # print out (data, label) and verify onehot\n",
        "        if (verbose):\n",
        "            print(f\"gt_data: {gt_data}\")\n",
        "            print(f\"gt_label: {gt_label}\")\n",
        "            print(f\"gt_onehot_label: {gt_onehot_label}\")\n",
        "            print(f\"flower {flower_index} has label (gt, onehot) = ({gt_label.item()}, {torch.argmax(gt_onehot_label, dim=-1).item()})\")\n",
        "\n",
        "        # compute original gradient \n",
        "        out = net(gt_data.float())\n",
        "        y = criterion(out, gt_onehot_label)\n",
        "\n",
        "        if (flower_index == flower_indices[0]):\n",
        "          batch_dy_dx = torch.autograd.grad(y, net.parameters())\n",
        "        else:\n",
        "          batch_dy_dx = tuple(map(sum, zip(batch_dy_dx, torch.autograd.grad(y, net.parameters())))) # sum of gradients\n",
        "\n",
        "    batch_dy_dx = tuple(part/n for part in batch_dy_dx)\n",
        "    original_dy_dx = list((_.detach().clone() for _ in batch_dy_dx)) # share the gradients with other clients\n",
        "\n",
        "    # verifying dy_dx is average of list of flowers\n",
        "    if (verbose >= 2):\n",
        "      print(original_dy_dx)\n",
        "    \n",
        "    return original_dy_dx, gt_dataset, gt_labels"
      ],
      "metadata": {
        "id": "GWL_MjKJIZ9C"
      },
      "execution_count": 5,
      "outputs": []
    },
    {
      "cell_type": "code",
      "metadata": {
        "id": "8mSgR4GClV-8"
      },
      "source": [
        "# DLG algorithm on a given set of flowers and returns the hypothesized input\n",
        "def batch_DLG(original_dy_dx, n, gt_data_len, gt_onehot_label_len, verbose = 0):\n",
        "\n",
        "    # identify (data, label) using Adam on the squared difference between the original and guessed gradient\n",
        "    dummy_data = [torch.randn(gt_data_len).to(device).requires_grad_(True) for i in range(n)]\n",
        "    dummy_label = [torch.randn(gt_onehot_label_len).to(device).requires_grad_(True) for i in range(n)]\n",
        "    optimizer = torch.optim.LBFGS(dummy_data+dummy_label)\n",
        "\n",
        "    global opt_steps; opt_steps = 0\n",
        "    for iters in range(100):\n",
        "\n",
        "        # closure function needed for LBFGS optimizer\n",
        "        def closure():\n",
        "            global opt_steps; opt_steps += 1\n",
        "\n",
        "            # compute gradient of dummy data/label\n",
        "            optimizer.zero_grad()\n",
        "            for i in range(n):\n",
        "                pred = net(dummy_data[i]) \n",
        "                #print(f\"prediction: {pred} from data: {dummy_data.data} and label: {dummy_label}\") # uncomment to see optimization updates\n",
        "                dummy_onehot_label = F.softmax(dummy_label[i], dim=-1)\n",
        "                dummy_loss = criterion(pred, dummy_onehot_label) if (i == 0) else dummy_loss + criterion(pred, dummy_onehot_label)\n",
        "            \n",
        "            dummy_loss /= n\n",
        "            dummy_dy_dx = torch.autograd.grad(dummy_loss, net.parameters(), create_graph=True)\n",
        "            \n",
        "            # compute loss function, i.e. the SE of the gradients\n",
        "            grad_diff = 0\n",
        "            grad_count = 0\n",
        "            for gx, gy in zip(dummy_dy_dx, original_dy_dx):\n",
        "                grad_diff += ((gx - gy) ** 2).sum()\n",
        "                grad_count += gx.nelement()\n",
        "\n",
        "            grad_diff.backward()\n",
        "            return grad_diff\n",
        "        \n",
        "        # perform GD and log information\n",
        "        optimizer.step(closure)\n",
        "        current_loss = closure()\n",
        "        if (verbose == 2):\n",
        "            print('current loss: ', iters, \"%.4f\" % current_loss.item())\n",
        "            print('dummy data: ', dummy_data)\n",
        "            print('dummy labels: ', dummy_label)\n",
        "        \n",
        "        # if current_loss is small enough, then the model has 'converged'\n",
        "        if (closure() < 1e-9):\n",
        "            break\n",
        "    \n",
        "    return dummy_data, opt_steps"
      ],
      "execution_count": 6,
      "outputs": []
    },
    {
      "cell_type": "code",
      "source": [
        "# find best linear sum assignment\n",
        "def assign_guess(guess, gt_dataset, n, verbose = False):\n",
        "    cost_matrix = [[torch.sum((guess[i]-gt_dataset[j])**2).item() for j in range(n)] for i in range(n)]\n",
        "    row_ind, col_ind = linear_sum_assignment(cost_matrix)\n",
        "    best_MSE = sum([cost_matrix[row_ind[i]][col_ind[i]] for i in range(n)]) / n\n",
        "    if (verbose):\n",
        "        print('best guessed-actual assignment: ', col_ind)\n",
        "        print('best_MSE: ', best_MSE)\n",
        "\n",
        "    guess_perm = [None] * n\n",
        "    for i in range(n):\n",
        "        guess_perm[col_ind[i]] = guess[i]\n",
        "\n",
        "    return guess_perm"
      ],
      "metadata": {
        "id": "N9F7n7IR7MdX"
      },
      "execution_count": 7,
      "outputs": []
    },
    {
      "cell_type": "code",
      "metadata": {
        "id": "aokP-jhal96-"
      },
      "source": [
        "# testing Batch-DLG on n random flowers\n",
        "def test_rand(n = 10, verbose = False):\n",
        "    length = dst.data.shape[0]\n",
        "    perm = list(range(length))\n",
        "    shuffle(perm)\n",
        "    flower_indices = perm[0:n]\n",
        "    if (verbose):\n",
        "        print('flowers: ', flower_indices)\n",
        "\n",
        "    original_dy_dx, gt_dataset, gt_labels = batch_grad(flower_indices, 0)\n",
        "    guess, steps = batch_DLG(original_dy_dx, n, gt_dataset[0].size(), label_to_onehot(gt_labels[0]).size(), 1)\n",
        "    if (verbose):\n",
        "        print(f\"Original data: {gt_dataset}\")\n",
        "        print(f\"Predicted data: {guess}\")\n",
        "        print('steps: ', steps)\n",
        "\n",
        "    guess_perm = assign_guess(guess, gt_dataset, n, verbose)\n",
        "\n",
        "    if (verbose):\n",
        "        print('side by side comparison of guessed to actual input data: ')\n",
        "    avg_cos_angle = 0\n",
        "    best_MSE = 0\n",
        "    for i in range(n):\n",
        "        SE = torch.sum((guess_perm[i]-gt_dataset[i])**2).item()\n",
        "        cos_angle = (torch.sum(guess_perm[i]*gt_dataset[i]).item() / (torch.linalg.norm(gt_dataset[i]) * torch.linalg.norm(guess_perm[i]))).item()\n",
        "        avg_cos_angle += cos_angle\n",
        "        best_MSE += SE\n",
        "        if (verbose):\n",
        "            print(i, ':', gt_dataset[i].tolist(), guess_perm[i].tolist())\n",
        "            print('SE: ', SE, 'cos(angle): ', cos_angle)\n",
        "\n",
        "    avg_cos_angle /= n\n",
        "    best_MSE /= n\n",
        "    if (verbose):\n",
        "        print('average cos(angle): ', avg_cos_angle)\n",
        "        print('MSE: ', best_MSE)\n",
        "    \n",
        "    return best_MSE, avg_cos_angle, steps"
      ],
      "execution_count": 8,
      "outputs": []
    },
    {
      "cell_type": "code",
      "source": [
        "# testing batch-DLG on 20 groups of 10 flowers\n",
        "test_len = 20\n",
        "errors = []\n",
        "cos_angles = []\n",
        "optimization_steps = []\n",
        "for i in range(test_len):\n",
        "    MSE, avg_cos_angle, steps = test_rand(10, False)\n",
        "    errors.append(MSE)\n",
        "    optimization_steps.append(steps)\n",
        "    cos_angles.append(avg_cos_angle)\n",
        "    \n",
        "print(errors)\n",
        "print(optimization_steps)\n",
        "print(cos_angles)"
      ],
      "metadata": {
        "colab": {
          "base_uri": "https://localhost:8080/"
        },
        "id": "J_cCVDkdlAyt",
        "outputId": "e5b0ab6d-cd76-4a2a-a62d-9bc9fb698845"
      },
      "execution_count": 9,
      "outputs": [
        {
          "output_type": "stream",
          "name": "stdout",
          "text": [
            "[8.118956361122565, 0.055858512514358485, 6.419605824844167, 0.11070858183751138, 0.07483974686036232, 2.444843289005946, 0.10220913592374452, 2.8786715826541283, 3.7247727050667754, 0.18239144748522945, 0.3293171977973592, 0.33117407877893457, 1.9148268971371287, 0.10923010197648772, 2.351732699408792, 6.0019114246422625, 18.732187235087462, 0.06480022724263595, 0.226464095273497, 0.13871180010869089]\n",
            "[416, 420, 489, 459, 345, 453, 425, 467, 544, 451, 365, 446, 482, 469, 487, 476, 439, 549, 384, 413]\n",
            "[0.8090576443634759, 0.9997779250556716, 0.9289891367681113, 0.9995169508056424, 0.9994088466873157, 0.9862589396699526, 0.9993894625656106, 0.9775509370703546, 0.9810899442154314, 0.9997598549036214, 0.999307028081228, 0.9992826268614861, 0.9784162784779553, 0.999404111623486, 0.9814950450977262, 0.9828777726766538, 0.8013076547845446, 0.9997154599807997, 0.9995282311710298, 0.9991619937501582]\n"
          ]
        }
      ]
    },
    {
      "cell_type": "code",
      "source": [
        "# visually represent errors in a histogram\n",
        "plt.hist(errors, 50)\n",
        "plt.title('Distribution of MSE of Guessed to Real Input on 20 groups of 10 flowers')\n",
        "plt.ylabel('Frequency')\n",
        "plt.xlabel('Mean Squared Error (cm^2)')\n",
        "print('*** change caption This graph was generated on the entire IRIS dataset consisting of 150 flowers.\\nIt utilizes a randomly initialized fully connected NN as its prediction algorithm.')\n",
        "plt.savefig('batch-gradient-MSE.png', dpi=300)"
      ],
      "metadata": {
        "colab": {
          "base_uri": "https://localhost:8080/",
          "height": 331
        },
        "id": "P9169qMxmAWG",
        "outputId": "b117b1ec-7a84-492c-cd95-1c001355f6cd"
      },
      "execution_count": 10,
      "outputs": [
        {
          "output_type": "stream",
          "name": "stdout",
          "text": [
            "*** change caption This graph was generated on the entire IRIS dataset consisting of 150 flowers.\n",
            "It utilizes a randomly initialized fully connected NN as its prediction algorithm.\n"
          ]
        },
        {
          "output_type": "display_data",
          "data": {
            "text/plain": [
              "<Figure size 432x288 with 1 Axes>"
            ],
            "image/png": "[encoded data removed]"
          },
          "metadata": {
            "needs_background": "light"
          }
        }
      ]
    },
    {
      "cell_type": "code",
      "source": [
        "# visually represent number of optimization steps\n",
        "plt.hist(optimization_steps, 10)\n",
        "plt.title('Distribution of Optimization Steps of DLG on 20 groups of 10 flowers')\n",
        "plt.xlabel('Number of Optimization Steps')\n",
        "plt.ylabel('Frequency')\n",
        "plt.savefig('batch-gradient-steps.png', dpi=300)\n",
        "print('Note that the number of optimization steps is measured in terms of the number of times the closure function is called in the LBFGS optimizer')"
      ],
      "metadata": {
        "colab": {
          "base_uri": "https://localhost:8080/",
          "height": 313
        },
        "id": "4COPiX7zmWPo",
        "outputId": "c9227035-00a2-420f-b6f7-ef60a8214cab"
      },
      "execution_count": 15,
      "outputs": [
        {
          "output_type": "stream",
          "name": "stdout",
          "text": [
            "Note that the number of optimization steps is measured in terms of the number of times the closure function is called in the LBFGS optimizer\n"
          ]
        },
        {
          "output_type": "display_data",
          "data": {
            "text/plain": [
              "<Figure size 432x288 with 1 Axes>"
            ],
            "image/png": "[encoded data removed]"
          },
          "metadata": {
            "needs_background": "light"
          }
        }
      ]
    },
    {
      "cell_type": "code",
      "source": [
        "# visually represent avg_cos_angles\n",
        "plt.hist(cos_angles, 50)\n",
        "plt.title('Distribution of cos(angles) of DLG on 20 groups of 10 flowers')\n",
        "plt.xlabel('cos(angle) similarity')\n",
        "plt.ylabel('Frequency')\n",
        "plt.savefig('batch-gradient-cangles.png', dpi=300)\n",
        "print('Note that the number of optimization steps is measured in terms of the number of times the closure function is called in the LBFGS optimizer')"
      ],
      "metadata": {
        "colab": {
          "base_uri": "https://localhost:8080/",
          "height": 313
        },
        "id": "4ricn7JXmenz",
        "outputId": "b2911374-cc82-4f2b-babb-b2eaaaf14c30"
      },
      "execution_count": 12,
      "outputs": [
        {
          "output_type": "stream",
          "name": "stdout",
          "text": [
            "Note that the number of optimization steps is measured in terms of the number of times the closure function is called in the LBFGS optimizer\n"
          ]
        },
        {
          "output_type": "display_data",
          "data": {
            "text/plain": [
              "<Figure size 432x288 with 1 Axes>"
            ],
            "image/png": "[encoded data removed]"
          },
          "metadata": {
            "needs_background": "light"
          }
        }
      ]
    },
    {
      "cell_type": "code",
      "source": [
        "# Todo\n",
        "# set an upper limit on the optimization steps\n",
        "# create graphs of cos(theta) of guessed and actual input data (and SE)\n",
        "# try to train a good model and then check if it makes a difference of attackability of input data\n",
        "# what is the upper limit on the size of the batch?"
      ],
      "metadata": {
        "id": "gLZEAjIwTnUb"
      },
      "execution_count": 13,
      "outputs": []
    }
  ]
}